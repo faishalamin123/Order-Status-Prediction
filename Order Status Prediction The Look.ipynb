{
 "cells": [
  {
   "cell_type": "markdown",
   "id": "f77514dc",
   "metadata": {},
   "source": [
    "<h1 align=center><font size = 5>Classification of User Transaction Status on Dummy Ecommerce \"The Look\"</font></h1>"
   ]
  },
  {
   "cell_type": "markdown",
   "id": "0e880cb4",
   "metadata": {},
   "source": [
    "# Importing Library\n",
    "Import library yang dibutuhkan untuk melakukan modeling"
   ]
  },
  {
   "cell_type": "code",
   "execution_count": 1,
   "id": "61181737",
   "metadata": {},
   "outputs": [],
   "source": [
    "# Import Library untuk mengolah data\n",
    "import pandas as pd\n",
    "import numpy as np\n",
    "from sklearn import preprocessing\n",
    "from sklearn.preprocessing import StandardScaler\n",
    "\n",
    "# Import Library untuk visualisasi\n",
    "import matplotlib.pyplot as plt\n",
    "import seaborn as sns\n",
    "from sklearn.tree import plot_tree\n",
    "\n",
    "# Import Library untuk Modeling\n",
    "from sklearn.model_selection import train_test_split\n",
    "from sklearn.preprocessing import StandardScaler\n",
    "from sklearn.linear_model import LogisticRegression\n",
    "from sklearn.ensemble import RandomForestClassifier, GradientBoostingClassifier\n",
    "from sklearn.tree import DecisionTreeClassifier\n",
    "\n",
    "# Import Library untuk evaluasi\n",
    "from sklearn.metrics import confusion_matrix, ConfusionMatrixDisplay, classification_report, accuracy_score\n",
    "from sklearn.tree import export_graphviz\n",
    "from sklearn.model_selection import learning_curve\n",
    "\n",
    "import warnings\n",
    "warnings.filterwarnings('ignore')"
   ]
  },
  {
   "cell_type": "markdown",
   "id": "8875e256",
   "metadata": {},
   "source": [
    "# Import Dataset"
   ]
  },
  {
   "cell_type": "code",
   "execution_count": 2,
   "id": "a98435af",
   "metadata": {},
   "outputs": [
    {
     "data": {
      "text/html": [
       "<div>\n",
       "<style scoped>\n",
       "    .dataframe tbody tr th:only-of-type {\n",
       "        vertical-align: middle;\n",
       "    }\n",
       "\n",
       "    .dataframe tbody tr th {\n",
       "        vertical-align: top;\n",
       "    }\n",
       "\n",
       "    .dataframe thead th {\n",
       "        text-align: right;\n",
       "    }\n",
       "</style>\n",
       "<table border=\"1\" class=\"dataframe\">\n",
       "  <thead>\n",
       "    <tr style=\"text-align: right;\">\n",
       "      <th></th>\n",
       "      <th>order_id</th>\n",
       "      <th>create_at</th>\n",
       "      <th>status</th>\n",
       "      <th>user_id</th>\n",
       "      <th>gender</th>\n",
       "      <th>age</th>\n",
       "      <th>country</th>\n",
       "      <th>traffic_source</th>\n",
       "      <th>category</th>\n",
       "      <th>department</th>\n",
       "      <th>sale_price</th>\n",
       "      <th>distribution_center_id</th>\n",
       "    </tr>\n",
       "  </thead>\n",
       "  <tbody>\n",
       "    <tr>\n",
       "      <th>0</th>\n",
       "      <td>1</td>\n",
       "      <td>2019-07-17 00:00:00</td>\n",
       "      <td>Complete</td>\n",
       "      <td>1</td>\n",
       "      <td>M</td>\n",
       "      <td>30</td>\n",
       "      <td>South Korea</td>\n",
       "      <td>Search</td>\n",
       "      <td>Jeans</td>\n",
       "      <td>Men</td>\n",
       "      <td>68.949997</td>\n",
       "      <td>8</td>\n",
       "    </tr>\n",
       "    <tr>\n",
       "      <th>1</th>\n",
       "      <td>1</td>\n",
       "      <td>2019-07-17 00:00:00</td>\n",
       "      <td>Complete</td>\n",
       "      <td>1</td>\n",
       "      <td>M</td>\n",
       "      <td>30</td>\n",
       "      <td>South Korea</td>\n",
       "      <td>Search</td>\n",
       "      <td>Swim</td>\n",
       "      <td>Men</td>\n",
       "      <td>49.990002</td>\n",
       "      <td>5</td>\n",
       "    </tr>\n",
       "    <tr>\n",
       "      <th>2</th>\n",
       "      <td>1</td>\n",
       "      <td>2019-07-17 00:00:00</td>\n",
       "      <td>Complete</td>\n",
       "      <td>1</td>\n",
       "      <td>M</td>\n",
       "      <td>30</td>\n",
       "      <td>South Korea</td>\n",
       "      <td>Search</td>\n",
       "      <td>Tops &amp; Tees</td>\n",
       "      <td>Men</td>\n",
       "      <td>55.000000</td>\n",
       "      <td>3</td>\n",
       "    </tr>\n",
       "    <tr>\n",
       "      <th>3</th>\n",
       "      <td>1</td>\n",
       "      <td>2019-07-17 00:00:00</td>\n",
       "      <td>Complete</td>\n",
       "      <td>1</td>\n",
       "      <td>M</td>\n",
       "      <td>30</td>\n",
       "      <td>South Korea</td>\n",
       "      <td>Search</td>\n",
       "      <td>Underwear</td>\n",
       "      <td>Men</td>\n",
       "      <td>11.990000</td>\n",
       "      <td>1</td>\n",
       "    </tr>\n",
       "    <tr>\n",
       "      <th>4</th>\n",
       "      <td>2</td>\n",
       "      <td>2021-11-30 00:00:00</td>\n",
       "      <td>Processing</td>\n",
       "      <td>1</td>\n",
       "      <td>M</td>\n",
       "      <td>30</td>\n",
       "      <td>South Korea</td>\n",
       "      <td>Search</td>\n",
       "      <td>Sleep &amp; Lounge</td>\n",
       "      <td>Men</td>\n",
       "      <td>42.000000</td>\n",
       "      <td>2</td>\n",
       "    </tr>\n",
       "    <tr>\n",
       "      <th>...</th>\n",
       "      <td>...</td>\n",
       "      <td>...</td>\n",
       "      <td>...</td>\n",
       "      <td>...</td>\n",
       "      <td>...</td>\n",
       "      <td>...</td>\n",
       "      <td>...</td>\n",
       "      <td>...</td>\n",
       "      <td>...</td>\n",
       "      <td>...</td>\n",
       "      <td>...</td>\n",
       "      <td>...</td>\n",
       "    </tr>\n",
       "    <tr>\n",
       "      <th>180487</th>\n",
       "      <td>124508</td>\n",
       "      <td>2020-07-02 00:00:00</td>\n",
       "      <td>Returned</td>\n",
       "      <td>99997</td>\n",
       "      <td>F</td>\n",
       "      <td>50</td>\n",
       "      <td>United States</td>\n",
       "      <td>Search</td>\n",
       "      <td>Plus</td>\n",
       "      <td>Women</td>\n",
       "      <td>8.990000</td>\n",
       "      <td>1</td>\n",
       "    </tr>\n",
       "    <tr>\n",
       "      <th>180488</th>\n",
       "      <td>124509</td>\n",
       "      <td>2022-02-01 00:00:00</td>\n",
       "      <td>Processing</td>\n",
       "      <td>99998</td>\n",
       "      <td>F</td>\n",
       "      <td>63</td>\n",
       "      <td>South Korea</td>\n",
       "      <td>Search</td>\n",
       "      <td>Pants &amp; Capris</td>\n",
       "      <td>Women</td>\n",
       "      <td>44.000000</td>\n",
       "      <td>3</td>\n",
       "    </tr>\n",
       "    <tr>\n",
       "      <th>180489</th>\n",
       "      <td>124510</td>\n",
       "      <td>2022-05-10 00:00:00</td>\n",
       "      <td>Shipped</td>\n",
       "      <td>99999</td>\n",
       "      <td>M</td>\n",
       "      <td>43</td>\n",
       "      <td>China</td>\n",
       "      <td>Search</td>\n",
       "      <td>Fashion Hoodies &amp; Sweatshirts</td>\n",
       "      <td>Men</td>\n",
       "      <td>75.000000</td>\n",
       "      <td>4</td>\n",
       "    </tr>\n",
       "    <tr>\n",
       "      <th>180490</th>\n",
       "      <td>124511</td>\n",
       "      <td>2022-05-26 00:00:00</td>\n",
       "      <td>Shipped</td>\n",
       "      <td>100000</td>\n",
       "      <td>M</td>\n",
       "      <td>65</td>\n",
       "      <td>Brasil</td>\n",
       "      <td>Search</td>\n",
       "      <td>Jeans</td>\n",
       "      <td>Men</td>\n",
       "      <td>69.989998</td>\n",
       "      <td>3</td>\n",
       "    </tr>\n",
       "    <tr>\n",
       "      <th>180491</th>\n",
       "      <td>124512</td>\n",
       "      <td>2021-06-08 00:00:00</td>\n",
       "      <td>Processing</td>\n",
       "      <td>100000</td>\n",
       "      <td>M</td>\n",
       "      <td>65</td>\n",
       "      <td>Brasil</td>\n",
       "      <td>Search</td>\n",
       "      <td>Suits &amp; Sport Coats</td>\n",
       "      <td>Men</td>\n",
       "      <td>49.880001</td>\n",
       "      <td>6</td>\n",
       "    </tr>\n",
       "  </tbody>\n",
       "</table>\n",
       "<p>180492 rows × 12 columns</p>\n",
       "</div>"
      ],
      "text/plain": [
       "        order_id            create_at      status  user_id gender  age  \\\n",
       "0              1  2019-07-17 00:00:00    Complete        1      M   30   \n",
       "1              1  2019-07-17 00:00:00    Complete        1      M   30   \n",
       "2              1  2019-07-17 00:00:00    Complete        1      M   30   \n",
       "3              1  2019-07-17 00:00:00    Complete        1      M   30   \n",
       "4              2  2021-11-30 00:00:00  Processing        1      M   30   \n",
       "...          ...                  ...         ...      ...    ...  ...   \n",
       "180487    124508  2020-07-02 00:00:00    Returned    99997      F   50   \n",
       "180488    124509  2022-02-01 00:00:00  Processing    99998      F   63   \n",
       "180489    124510  2022-05-10 00:00:00     Shipped    99999      M   43   \n",
       "180490    124511  2022-05-26 00:00:00     Shipped   100000      M   65   \n",
       "180491    124512  2021-06-08 00:00:00  Processing   100000      M   65   \n",
       "\n",
       "              country traffic_source                       category  \\\n",
       "0         South Korea         Search                          Jeans   \n",
       "1         South Korea         Search                           Swim   \n",
       "2         South Korea         Search                    Tops & Tees   \n",
       "3         South Korea         Search                      Underwear   \n",
       "4         South Korea         Search                 Sleep & Lounge   \n",
       "...               ...            ...                            ...   \n",
       "180487  United States         Search                           Plus   \n",
       "180488    South Korea         Search                 Pants & Capris   \n",
       "180489          China         Search  Fashion Hoodies & Sweatshirts   \n",
       "180490         Brasil         Search                          Jeans   \n",
       "180491         Brasil         Search            Suits & Sport Coats   \n",
       "\n",
       "       department  sale_price  distribution_center_id  \n",
       "0             Men   68.949997                       8  \n",
       "1             Men   49.990002                       5  \n",
       "2             Men   55.000000                       3  \n",
       "3             Men   11.990000                       1  \n",
       "4             Men   42.000000                       2  \n",
       "...           ...         ...                     ...  \n",
       "180487      Women    8.990000                       1  \n",
       "180488      Women   44.000000                       3  \n",
       "180489        Men   75.000000                       4  \n",
       "180490        Men   69.989998                       3  \n",
       "180491        Men   49.880001                       6  \n",
       "\n",
       "[180492 rows x 12 columns]"
      ]
     },
     "execution_count": 2,
     "metadata": {},
     "output_type": "execute_result"
    }
   ],
   "source": [
    "df = pd.read_csv(\"D:\\Materi SI\\AA FINAL PROJECT\\Data Modeling 3.csv\")\n",
    "\n",
    "df"
   ]
  },
  {
   "cell_type": "markdown",
   "id": "689606f0",
   "metadata": {},
   "source": [
    "# Data Exploration\n",
    "Bertujuan untuk memahami dan memperoleh pengetahuan lebih banyak tentang data yang akan digunakan."
   ]
  },
  {
   "cell_type": "code",
   "execution_count": 3,
   "id": "bb678a85",
   "metadata": {},
   "outputs": [
    {
     "name": "stdout",
     "output_type": "stream",
     "text": [
      "<class 'pandas.core.frame.DataFrame'>\n",
      "RangeIndex: 180492 entries, 0 to 180491\n",
      "Data columns (total 12 columns):\n",
      " #   Column                  Non-Null Count   Dtype  \n",
      "---  ------                  --------------   -----  \n",
      " 0   order_id                180492 non-null  int64  \n",
      " 1   create_at               180492 non-null  object \n",
      " 2   status                  180492 non-null  object \n",
      " 3   user_id                 180492 non-null  int64  \n",
      " 4   gender                  180492 non-null  object \n",
      " 5   age                     180492 non-null  int64  \n",
      " 6   country                 180492 non-null  object \n",
      " 7   traffic_source          180492 non-null  object \n",
      " 8   category                180492 non-null  object \n",
      " 9   department              180492 non-null  object \n",
      " 10  sale_price              180492 non-null  float64\n",
      " 11  distribution_center_id  180492 non-null  int64  \n",
      "dtypes: float64(1), int64(4), object(7)\n",
      "memory usage: 16.5+ MB\n"
     ]
    }
   ],
   "source": [
    "# Cek data type dan missing values\n",
    "df.info()"
   ]
  },
  {
   "cell_type": "code",
   "execution_count": 4,
   "id": "8d874a6b",
   "metadata": {
    "scrolled": true
   },
   "outputs": [
    {
     "name": "stdout",
     "output_type": "stream",
     "text": [
      "Jumlah missing value pada masing masing kolom\n"
     ]
    },
    {
     "data": {
      "text/plain": [
       "order_id                  0\n",
       "create_at                 0\n",
       "status                    0\n",
       "user_id                   0\n",
       "gender                    0\n",
       "age                       0\n",
       "country                   0\n",
       "traffic_source            0\n",
       "category                  0\n",
       "department                0\n",
       "sale_price                0\n",
       "distribution_center_id    0\n",
       "dtype: int64"
      ]
     },
     "execution_count": 4,
     "metadata": {},
     "output_type": "execute_result"
    }
   ],
   "source": [
    "# Menampilkan jumlah missing value pada masing masing kolom\n",
    "print(\"Jumlah missing value pada masing masing kolom\")\n",
    "df.isnull().sum()"
   ]
  },
  {
   "cell_type": "markdown",
   "id": "08ea01a9",
   "metadata": {},
   "source": [
    "Dari hasil output syntax .info() diketahui bahwa setiap kolom memiliki jumlah nilai yang sama yaitu 180505 yang artinya tidak terdapat missing value pada data. Hal tersebut juga diperkuat dengan hasil syntax .isnull() yang menunjukkan nilai masing masing kolom adalah 0. Artinya dataset yang akan dipergunakan terbebas dari permasalahan missing value."
   ]
  },
  {
   "cell_type": "code",
   "execution_count": 5,
   "id": "9196473d",
   "metadata": {},
   "outputs": [
    {
     "name": "stdout",
     "output_type": "stream",
     "text": [
      "Jumlah duplicated value pada data adalah :  0\n"
     ]
    }
   ],
   "source": [
    "# Menghitung jumlah duplicated order pada data\n",
    "print('Jumlah duplicated value pada data adalah : ', df.duplicated(keep=False).sum())"
   ]
  },
  {
   "cell_type": "markdown",
   "id": "c4436433",
   "metadata": {},
   "source": [
    "Data yang digunakan untuk melakukan modeling tidak bisa mengandung duplicate value, karena akan menyebabkan terjadinya overfit pada model. Meskipun saat melakukan query dataset pada sql telah menggunakan DISTINCT pada variabel order_id, kita perlu memastikan ulang apakah masih terdapat data order yang tercatat dua kali. Hasil dari syntax .duplicate diatas menunjukkan nilai 0, artinya data transaksi tidak mengandung duplicate value."
   ]
  },
  {
   "cell_type": "markdown",
   "id": "863fc0df",
   "metadata": {},
   "source": [
    "## Mengubah data pada kolom status\n",
    "Modeling yang akan dilakukan bertujuan untuk melakukan classification order yang dilakukan oleh user apakah order tersebut akan terselesaikan atau tidak terselesaikan. Target dari modeling ini adalah kolom status. Data pada kolom status akan diubah menjadi dua kategori yaitu :\n",
    "1. Complete = merupakan transaksi yang terselesaikan oleh user\n",
    "2. Fail = merupakan transaksi yang tidak terselesaikan / dikembalikan oleh user\n",
    "\n",
    "Status yang tersedia pada dataset mencangkup 5 kategori yaitu 'Processing','Shipped', 'Complete', 'Cancelled', 'Returned'. Dari kelima kategori tersebut akan dikelompokkan kedalam dua target modeling dimana kondisi dan asumsi yang digunakan adalah :\n",
    "1. Complete = merupakan data order dengan status 'Complete'\n",
    "2. Fail =\n",
    "<br>    a. Data order dengan status 'cancelled'\n",
    "<br>    b. Data Order dengan status 'Returned'\n",
    "<br>    c. Data order dengan status 'Shipped' dimana transaksi dibuat sudah lebih dari 31 hari\n",
    "<br>    d. Data order dengan status 'Processing' dimana transaksi dibuat sudah lebih dari 31 hari\n",
    "\n",
    "Data dengan status 'Shipped' dan 'Processing' yang memiliki waktu transaksi kurang dari 31 hari (transaksi setelah tanggal '2022-05-06') tidak akan digunakan untuk melakukan classification karena transaksi tersebut masih memiliki peluang untuk terselesaikan."
   ]
  },
  {
   "cell_type": "code",
   "execution_count": 6,
   "id": "c5d495d1",
   "metadata": {},
   "outputs": [
    {
     "data": {
      "text/html": [
       "<div>\n",
       "<style scoped>\n",
       "    .dataframe tbody tr th:only-of-type {\n",
       "        vertical-align: middle;\n",
       "    }\n",
       "\n",
       "    .dataframe tbody tr th {\n",
       "        vertical-align: top;\n",
       "    }\n",
       "\n",
       "    .dataframe thead th {\n",
       "        text-align: right;\n",
       "    }\n",
       "</style>\n",
       "<table border=\"1\" class=\"dataframe\">\n",
       "  <thead>\n",
       "    <tr style=\"text-align: right;\">\n",
       "      <th></th>\n",
       "      <th>order_id</th>\n",
       "      <th>create_at</th>\n",
       "      <th>status</th>\n",
       "      <th>user_id</th>\n",
       "      <th>gender</th>\n",
       "      <th>age</th>\n",
       "      <th>country</th>\n",
       "      <th>traffic_source</th>\n",
       "      <th>category</th>\n",
       "      <th>department</th>\n",
       "      <th>sale_price</th>\n",
       "      <th>distribution_center_id</th>\n",
       "    </tr>\n",
       "  </thead>\n",
       "  <tbody>\n",
       "    <tr>\n",
       "      <th>0</th>\n",
       "      <td>1</td>\n",
       "      <td>2019-07-17 00:00:00</td>\n",
       "      <td>Complete</td>\n",
       "      <td>1</td>\n",
       "      <td>M</td>\n",
       "      <td>30</td>\n",
       "      <td>South Korea</td>\n",
       "      <td>Search</td>\n",
       "      <td>Jeans</td>\n",
       "      <td>Men</td>\n",
       "      <td>68.949997</td>\n",
       "      <td>8</td>\n",
       "    </tr>\n",
       "    <tr>\n",
       "      <th>1</th>\n",
       "      <td>1</td>\n",
       "      <td>2019-07-17 00:00:00</td>\n",
       "      <td>Complete</td>\n",
       "      <td>1</td>\n",
       "      <td>M</td>\n",
       "      <td>30</td>\n",
       "      <td>South Korea</td>\n",
       "      <td>Search</td>\n",
       "      <td>Swim</td>\n",
       "      <td>Men</td>\n",
       "      <td>49.990002</td>\n",
       "      <td>5</td>\n",
       "    </tr>\n",
       "    <tr>\n",
       "      <th>2</th>\n",
       "      <td>1</td>\n",
       "      <td>2019-07-17 00:00:00</td>\n",
       "      <td>Complete</td>\n",
       "      <td>1</td>\n",
       "      <td>M</td>\n",
       "      <td>30</td>\n",
       "      <td>South Korea</td>\n",
       "      <td>Search</td>\n",
       "      <td>Tops &amp; Tees</td>\n",
       "      <td>Men</td>\n",
       "      <td>55.000000</td>\n",
       "      <td>3</td>\n",
       "    </tr>\n",
       "    <tr>\n",
       "      <th>3</th>\n",
       "      <td>1</td>\n",
       "      <td>2019-07-17 00:00:00</td>\n",
       "      <td>Complete</td>\n",
       "      <td>1</td>\n",
       "      <td>M</td>\n",
       "      <td>30</td>\n",
       "      <td>South Korea</td>\n",
       "      <td>Search</td>\n",
       "      <td>Underwear</td>\n",
       "      <td>Men</td>\n",
       "      <td>11.990000</td>\n",
       "      <td>1</td>\n",
       "    </tr>\n",
       "    <tr>\n",
       "      <th>4</th>\n",
       "      <td>2</td>\n",
       "      <td>2021-11-30 00:00:00</td>\n",
       "      <td>Processing</td>\n",
       "      <td>1</td>\n",
       "      <td>M</td>\n",
       "      <td>30</td>\n",
       "      <td>South Korea</td>\n",
       "      <td>Search</td>\n",
       "      <td>Sleep &amp; Lounge</td>\n",
       "      <td>Men</td>\n",
       "      <td>42.000000</td>\n",
       "      <td>2</td>\n",
       "    </tr>\n",
       "    <tr>\n",
       "      <th>...</th>\n",
       "      <td>...</td>\n",
       "      <td>...</td>\n",
       "      <td>...</td>\n",
       "      <td>...</td>\n",
       "      <td>...</td>\n",
       "      <td>...</td>\n",
       "      <td>...</td>\n",
       "      <td>...</td>\n",
       "      <td>...</td>\n",
       "      <td>...</td>\n",
       "      <td>...</td>\n",
       "      <td>...</td>\n",
       "    </tr>\n",
       "    <tr>\n",
       "      <th>180485</th>\n",
       "      <td>124507</td>\n",
       "      <td>2020-02-29 00:00:00</td>\n",
       "      <td>Cancelled</td>\n",
       "      <td>99997</td>\n",
       "      <td>F</td>\n",
       "      <td>50</td>\n",
       "      <td>United States</td>\n",
       "      <td>Search</td>\n",
       "      <td>Pants &amp; Capris</td>\n",
       "      <td>Women</td>\n",
       "      <td>36.090000</td>\n",
       "      <td>10</td>\n",
       "    </tr>\n",
       "    <tr>\n",
       "      <th>180486</th>\n",
       "      <td>124507</td>\n",
       "      <td>2020-02-29 00:00:00</td>\n",
       "      <td>Cancelled</td>\n",
       "      <td>99997</td>\n",
       "      <td>F</td>\n",
       "      <td>50</td>\n",
       "      <td>United States</td>\n",
       "      <td>Search</td>\n",
       "      <td>Sleep &amp; Lounge</td>\n",
       "      <td>Women</td>\n",
       "      <td>25.000000</td>\n",
       "      <td>8</td>\n",
       "    </tr>\n",
       "    <tr>\n",
       "      <th>180487</th>\n",
       "      <td>124508</td>\n",
       "      <td>2020-07-02 00:00:00</td>\n",
       "      <td>Returned</td>\n",
       "      <td>99997</td>\n",
       "      <td>F</td>\n",
       "      <td>50</td>\n",
       "      <td>United States</td>\n",
       "      <td>Search</td>\n",
       "      <td>Plus</td>\n",
       "      <td>Women</td>\n",
       "      <td>8.990000</td>\n",
       "      <td>1</td>\n",
       "    </tr>\n",
       "    <tr>\n",
       "      <th>180488</th>\n",
       "      <td>124509</td>\n",
       "      <td>2022-02-01 00:00:00</td>\n",
       "      <td>Processing</td>\n",
       "      <td>99998</td>\n",
       "      <td>F</td>\n",
       "      <td>63</td>\n",
       "      <td>South Korea</td>\n",
       "      <td>Search</td>\n",
       "      <td>Pants &amp; Capris</td>\n",
       "      <td>Women</td>\n",
       "      <td>44.000000</td>\n",
       "      <td>3</td>\n",
       "    </tr>\n",
       "    <tr>\n",
       "      <th>180491</th>\n",
       "      <td>124512</td>\n",
       "      <td>2021-06-08 00:00:00</td>\n",
       "      <td>Processing</td>\n",
       "      <td>100000</td>\n",
       "      <td>M</td>\n",
       "      <td>65</td>\n",
       "      <td>Brasil</td>\n",
       "      <td>Search</td>\n",
       "      <td>Suits &amp; Sport Coats</td>\n",
       "      <td>Men</td>\n",
       "      <td>49.880001</td>\n",
       "      <td>6</td>\n",
       "    </tr>\n",
       "  </tbody>\n",
       "</table>\n",
       "<p>169201 rows × 12 columns</p>\n",
       "</div>"
      ],
      "text/plain": [
       "        order_id            create_at      status  user_id gender  age  \\\n",
       "0              1  2019-07-17 00:00:00    Complete        1      M   30   \n",
       "1              1  2019-07-17 00:00:00    Complete        1      M   30   \n",
       "2              1  2019-07-17 00:00:00    Complete        1      M   30   \n",
       "3              1  2019-07-17 00:00:00    Complete        1      M   30   \n",
       "4              2  2021-11-30 00:00:00  Processing        1      M   30   \n",
       "...          ...                  ...         ...      ...    ...  ...   \n",
       "180485    124507  2020-02-29 00:00:00   Cancelled    99997      F   50   \n",
       "180486    124507  2020-02-29 00:00:00   Cancelled    99997      F   50   \n",
       "180487    124508  2020-07-02 00:00:00    Returned    99997      F   50   \n",
       "180488    124509  2022-02-01 00:00:00  Processing    99998      F   63   \n",
       "180491    124512  2021-06-08 00:00:00  Processing   100000      M   65   \n",
       "\n",
       "              country traffic_source             category department  \\\n",
       "0         South Korea         Search                Jeans        Men   \n",
       "1         South Korea         Search                 Swim        Men   \n",
       "2         South Korea         Search          Tops & Tees        Men   \n",
       "3         South Korea         Search            Underwear        Men   \n",
       "4         South Korea         Search       Sleep & Lounge        Men   \n",
       "...               ...            ...                  ...        ...   \n",
       "180485  United States         Search       Pants & Capris      Women   \n",
       "180486  United States         Search       Sleep & Lounge      Women   \n",
       "180487  United States         Search                 Plus      Women   \n",
       "180488    South Korea         Search       Pants & Capris      Women   \n",
       "180491         Brasil         Search  Suits & Sport Coats        Men   \n",
       "\n",
       "        sale_price  distribution_center_id  \n",
       "0        68.949997                       8  \n",
       "1        49.990002                       5  \n",
       "2        55.000000                       3  \n",
       "3        11.990000                       1  \n",
       "4        42.000000                       2  \n",
       "...            ...                     ...  \n",
       "180485   36.090000                      10  \n",
       "180486   25.000000                       8  \n",
       "180487    8.990000                       1  \n",
       "180488   44.000000                       3  \n",
       "180491   49.880001                       6  \n",
       "\n",
       "[169201 rows x 12 columns]"
      ]
     },
     "execution_count": 6,
     "metadata": {},
     "output_type": "execute_result"
    }
   ],
   "source": [
    "# Mengeluarkan data 'Shipped' dan 'Processing' setelah tanggal '2022-05-06'\n",
    "df.drop(df[(df['create_at'] > '2022-05-06 00:00:00') & (df['status'] == 'Shipped')].index, inplace = True)\n",
    "df.drop(df[(df['create_at'] > '2022-05-06 00:00:00') & (df['status'] == 'Processing')].index, inplace = True)\n",
    "\n",
    "# Menampilkan dataset \n",
    "df"
   ]
  },
  {
   "cell_type": "code",
   "execution_count": 7,
   "id": "3c8ab330",
   "metadata": {
    "scrolled": false
   },
   "outputs": [
    {
     "data": {
      "text/html": [
       "<div>\n",
       "<style scoped>\n",
       "    .dataframe tbody tr th:only-of-type {\n",
       "        vertical-align: middle;\n",
       "    }\n",
       "\n",
       "    .dataframe tbody tr th {\n",
       "        vertical-align: top;\n",
       "    }\n",
       "\n",
       "    .dataframe thead th {\n",
       "        text-align: right;\n",
       "    }\n",
       "</style>\n",
       "<table border=\"1\" class=\"dataframe\">\n",
       "  <thead>\n",
       "    <tr style=\"text-align: right;\">\n",
       "      <th></th>\n",
       "      <th>order_id</th>\n",
       "      <th>create_at</th>\n",
       "      <th>status</th>\n",
       "      <th>user_id</th>\n",
       "      <th>gender</th>\n",
       "      <th>age</th>\n",
       "      <th>country</th>\n",
       "      <th>traffic_source</th>\n",
       "      <th>category</th>\n",
       "      <th>department</th>\n",
       "      <th>sale_price</th>\n",
       "      <th>distribution_center_id</th>\n",
       "    </tr>\n",
       "  </thead>\n",
       "  <tbody>\n",
       "    <tr>\n",
       "      <th>0</th>\n",
       "      <td>1</td>\n",
       "      <td>2019-07-17 00:00:00</td>\n",
       "      <td>Complete</td>\n",
       "      <td>1</td>\n",
       "      <td>M</td>\n",
       "      <td>30</td>\n",
       "      <td>South Korea</td>\n",
       "      <td>Search</td>\n",
       "      <td>Jeans</td>\n",
       "      <td>Men</td>\n",
       "      <td>68.949997</td>\n",
       "      <td>8</td>\n",
       "    </tr>\n",
       "    <tr>\n",
       "      <th>1</th>\n",
       "      <td>1</td>\n",
       "      <td>2019-07-17 00:00:00</td>\n",
       "      <td>Complete</td>\n",
       "      <td>1</td>\n",
       "      <td>M</td>\n",
       "      <td>30</td>\n",
       "      <td>South Korea</td>\n",
       "      <td>Search</td>\n",
       "      <td>Swim</td>\n",
       "      <td>Men</td>\n",
       "      <td>49.990002</td>\n",
       "      <td>5</td>\n",
       "    </tr>\n",
       "    <tr>\n",
       "      <th>2</th>\n",
       "      <td>1</td>\n",
       "      <td>2019-07-17 00:00:00</td>\n",
       "      <td>Complete</td>\n",
       "      <td>1</td>\n",
       "      <td>M</td>\n",
       "      <td>30</td>\n",
       "      <td>South Korea</td>\n",
       "      <td>Search</td>\n",
       "      <td>Tops &amp; Tees</td>\n",
       "      <td>Men</td>\n",
       "      <td>55.000000</td>\n",
       "      <td>3</td>\n",
       "    </tr>\n",
       "    <tr>\n",
       "      <th>3</th>\n",
       "      <td>1</td>\n",
       "      <td>2019-07-17 00:00:00</td>\n",
       "      <td>Complete</td>\n",
       "      <td>1</td>\n",
       "      <td>M</td>\n",
       "      <td>30</td>\n",
       "      <td>South Korea</td>\n",
       "      <td>Search</td>\n",
       "      <td>Underwear</td>\n",
       "      <td>Men</td>\n",
       "      <td>11.990000</td>\n",
       "      <td>1</td>\n",
       "    </tr>\n",
       "    <tr>\n",
       "      <th>4</th>\n",
       "      <td>2</td>\n",
       "      <td>2021-11-30 00:00:00</td>\n",
       "      <td>Fail</td>\n",
       "      <td>1</td>\n",
       "      <td>M</td>\n",
       "      <td>30</td>\n",
       "      <td>South Korea</td>\n",
       "      <td>Search</td>\n",
       "      <td>Sleep &amp; Lounge</td>\n",
       "      <td>Men</td>\n",
       "      <td>42.000000</td>\n",
       "      <td>2</td>\n",
       "    </tr>\n",
       "    <tr>\n",
       "      <th>...</th>\n",
       "      <td>...</td>\n",
       "      <td>...</td>\n",
       "      <td>...</td>\n",
       "      <td>...</td>\n",
       "      <td>...</td>\n",
       "      <td>...</td>\n",
       "      <td>...</td>\n",
       "      <td>...</td>\n",
       "      <td>...</td>\n",
       "      <td>...</td>\n",
       "      <td>...</td>\n",
       "      <td>...</td>\n",
       "    </tr>\n",
       "    <tr>\n",
       "      <th>180485</th>\n",
       "      <td>124507</td>\n",
       "      <td>2020-02-29 00:00:00</td>\n",
       "      <td>Fail</td>\n",
       "      <td>99997</td>\n",
       "      <td>F</td>\n",
       "      <td>50</td>\n",
       "      <td>United States</td>\n",
       "      <td>Search</td>\n",
       "      <td>Pants &amp; Capris</td>\n",
       "      <td>Women</td>\n",
       "      <td>36.090000</td>\n",
       "      <td>10</td>\n",
       "    </tr>\n",
       "    <tr>\n",
       "      <th>180486</th>\n",
       "      <td>124507</td>\n",
       "      <td>2020-02-29 00:00:00</td>\n",
       "      <td>Fail</td>\n",
       "      <td>99997</td>\n",
       "      <td>F</td>\n",
       "      <td>50</td>\n",
       "      <td>United States</td>\n",
       "      <td>Search</td>\n",
       "      <td>Sleep &amp; Lounge</td>\n",
       "      <td>Women</td>\n",
       "      <td>25.000000</td>\n",
       "      <td>8</td>\n",
       "    </tr>\n",
       "    <tr>\n",
       "      <th>180487</th>\n",
       "      <td>124508</td>\n",
       "      <td>2020-07-02 00:00:00</td>\n",
       "      <td>Fail</td>\n",
       "      <td>99997</td>\n",
       "      <td>F</td>\n",
       "      <td>50</td>\n",
       "      <td>United States</td>\n",
       "      <td>Search</td>\n",
       "      <td>Plus</td>\n",
       "      <td>Women</td>\n",
       "      <td>8.990000</td>\n",
       "      <td>1</td>\n",
       "    </tr>\n",
       "    <tr>\n",
       "      <th>180488</th>\n",
       "      <td>124509</td>\n",
       "      <td>2022-02-01 00:00:00</td>\n",
       "      <td>Fail</td>\n",
       "      <td>99998</td>\n",
       "      <td>F</td>\n",
       "      <td>63</td>\n",
       "      <td>South Korea</td>\n",
       "      <td>Search</td>\n",
       "      <td>Pants &amp; Capris</td>\n",
       "      <td>Women</td>\n",
       "      <td>44.000000</td>\n",
       "      <td>3</td>\n",
       "    </tr>\n",
       "    <tr>\n",
       "      <th>180491</th>\n",
       "      <td>124512</td>\n",
       "      <td>2021-06-08 00:00:00</td>\n",
       "      <td>Fail</td>\n",
       "      <td>100000</td>\n",
       "      <td>M</td>\n",
       "      <td>65</td>\n",
       "      <td>Brasil</td>\n",
       "      <td>Search</td>\n",
       "      <td>Suits &amp; Sport Coats</td>\n",
       "      <td>Men</td>\n",
       "      <td>49.880001</td>\n",
       "      <td>6</td>\n",
       "    </tr>\n",
       "  </tbody>\n",
       "</table>\n",
       "<p>169201 rows × 12 columns</p>\n",
       "</div>"
      ],
      "text/plain": [
       "        order_id            create_at    status  user_id gender  age  \\\n",
       "0              1  2019-07-17 00:00:00  Complete        1      M   30   \n",
       "1              1  2019-07-17 00:00:00  Complete        1      M   30   \n",
       "2              1  2019-07-17 00:00:00  Complete        1      M   30   \n",
       "3              1  2019-07-17 00:00:00  Complete        1      M   30   \n",
       "4              2  2021-11-30 00:00:00      Fail        1      M   30   \n",
       "...          ...                  ...       ...      ...    ...  ...   \n",
       "180485    124507  2020-02-29 00:00:00      Fail    99997      F   50   \n",
       "180486    124507  2020-02-29 00:00:00      Fail    99997      F   50   \n",
       "180487    124508  2020-07-02 00:00:00      Fail    99997      F   50   \n",
       "180488    124509  2022-02-01 00:00:00      Fail    99998      F   63   \n",
       "180491    124512  2021-06-08 00:00:00      Fail   100000      M   65   \n",
       "\n",
       "              country traffic_source             category department  \\\n",
       "0         South Korea         Search                Jeans        Men   \n",
       "1         South Korea         Search                 Swim        Men   \n",
       "2         South Korea         Search          Tops & Tees        Men   \n",
       "3         South Korea         Search            Underwear        Men   \n",
       "4         South Korea         Search       Sleep & Lounge        Men   \n",
       "...               ...            ...                  ...        ...   \n",
       "180485  United States         Search       Pants & Capris      Women   \n",
       "180486  United States         Search       Sleep & Lounge      Women   \n",
       "180487  United States         Search                 Plus      Women   \n",
       "180488    South Korea         Search       Pants & Capris      Women   \n",
       "180491         Brasil         Search  Suits & Sport Coats        Men   \n",
       "\n",
       "        sale_price  distribution_center_id  \n",
       "0        68.949997                       8  \n",
       "1        49.990002                       5  \n",
       "2        55.000000                       3  \n",
       "3        11.990000                       1  \n",
       "4        42.000000                       2  \n",
       "...            ...                     ...  \n",
       "180485   36.090000                      10  \n",
       "180486   25.000000                       8  \n",
       "180487    8.990000                       1  \n",
       "180488   44.000000                       3  \n",
       "180491   49.880001                       6  \n",
       "\n",
       "[169201 rows x 12 columns]"
      ]
     },
     "execution_count": 7,
     "metadata": {},
     "output_type": "execute_result"
    }
   ],
   "source": [
    "# Mengganti data 'Processing','Shipped', 'Cancelled', 'Returned' menjadi 'Fail'\n",
    "df.loc[df['status'] != 'Complete', 'status'] = 'Fail'\n",
    "\n",
    "\n",
    "df"
   ]
  },
  {
   "cell_type": "code",
   "execution_count": 8,
   "id": "baa77124",
   "metadata": {
    "scrolled": false
   },
   "outputs": [
    {
     "data": {
      "text/html": [
       "<div>\n",
       "<style scoped>\n",
       "    .dataframe tbody tr th:only-of-type {\n",
       "        vertical-align: middle;\n",
       "    }\n",
       "\n",
       "    .dataframe tbody tr th {\n",
       "        vertical-align: top;\n",
       "    }\n",
       "\n",
       "    .dataframe thead th {\n",
       "        text-align: right;\n",
       "    }\n",
       "</style>\n",
       "<table border=\"1\" class=\"dataframe\">\n",
       "  <thead>\n",
       "    <tr style=\"text-align: right;\">\n",
       "      <th></th>\n",
       "      <th>status</th>\n",
       "      <th>gender</th>\n",
       "      <th>age</th>\n",
       "      <th>country</th>\n",
       "      <th>traffic_source</th>\n",
       "      <th>category</th>\n",
       "      <th>sale_price</th>\n",
       "      <th>distribution_center_id</th>\n",
       "    </tr>\n",
       "  </thead>\n",
       "  <tbody>\n",
       "    <tr>\n",
       "      <th>0</th>\n",
       "      <td>Complete</td>\n",
       "      <td>M</td>\n",
       "      <td>30</td>\n",
       "      <td>South Korea</td>\n",
       "      <td>Search</td>\n",
       "      <td>Jeans</td>\n",
       "      <td>68.949997</td>\n",
       "      <td>8</td>\n",
       "    </tr>\n",
       "    <tr>\n",
       "      <th>1</th>\n",
       "      <td>Complete</td>\n",
       "      <td>M</td>\n",
       "      <td>30</td>\n",
       "      <td>South Korea</td>\n",
       "      <td>Search</td>\n",
       "      <td>Swim</td>\n",
       "      <td>49.990002</td>\n",
       "      <td>5</td>\n",
       "    </tr>\n",
       "    <tr>\n",
       "      <th>2</th>\n",
       "      <td>Complete</td>\n",
       "      <td>M</td>\n",
       "      <td>30</td>\n",
       "      <td>South Korea</td>\n",
       "      <td>Search</td>\n",
       "      <td>Tops &amp; Tees</td>\n",
       "      <td>55.000000</td>\n",
       "      <td>3</td>\n",
       "    </tr>\n",
       "    <tr>\n",
       "      <th>3</th>\n",
       "      <td>Complete</td>\n",
       "      <td>M</td>\n",
       "      <td>30</td>\n",
       "      <td>South Korea</td>\n",
       "      <td>Search</td>\n",
       "      <td>Underwear</td>\n",
       "      <td>11.990000</td>\n",
       "      <td>1</td>\n",
       "    </tr>\n",
       "    <tr>\n",
       "      <th>4</th>\n",
       "      <td>Fail</td>\n",
       "      <td>M</td>\n",
       "      <td>30</td>\n",
       "      <td>South Korea</td>\n",
       "      <td>Search</td>\n",
       "      <td>Sleep &amp; Lounge</td>\n",
       "      <td>42.000000</td>\n",
       "      <td>2</td>\n",
       "    </tr>\n",
       "    <tr>\n",
       "      <th>...</th>\n",
       "      <td>...</td>\n",
       "      <td>...</td>\n",
       "      <td>...</td>\n",
       "      <td>...</td>\n",
       "      <td>...</td>\n",
       "      <td>...</td>\n",
       "      <td>...</td>\n",
       "      <td>...</td>\n",
       "    </tr>\n",
       "    <tr>\n",
       "      <th>180485</th>\n",
       "      <td>Fail</td>\n",
       "      <td>F</td>\n",
       "      <td>50</td>\n",
       "      <td>United States</td>\n",
       "      <td>Search</td>\n",
       "      <td>Pants &amp; Capris</td>\n",
       "      <td>36.090000</td>\n",
       "      <td>10</td>\n",
       "    </tr>\n",
       "    <tr>\n",
       "      <th>180486</th>\n",
       "      <td>Fail</td>\n",
       "      <td>F</td>\n",
       "      <td>50</td>\n",
       "      <td>United States</td>\n",
       "      <td>Search</td>\n",
       "      <td>Sleep &amp; Lounge</td>\n",
       "      <td>25.000000</td>\n",
       "      <td>8</td>\n",
       "    </tr>\n",
       "    <tr>\n",
       "      <th>180487</th>\n",
       "      <td>Fail</td>\n",
       "      <td>F</td>\n",
       "      <td>50</td>\n",
       "      <td>United States</td>\n",
       "      <td>Search</td>\n",
       "      <td>Plus</td>\n",
       "      <td>8.990000</td>\n",
       "      <td>1</td>\n",
       "    </tr>\n",
       "    <tr>\n",
       "      <th>180488</th>\n",
       "      <td>Fail</td>\n",
       "      <td>F</td>\n",
       "      <td>63</td>\n",
       "      <td>South Korea</td>\n",
       "      <td>Search</td>\n",
       "      <td>Pants &amp; Capris</td>\n",
       "      <td>44.000000</td>\n",
       "      <td>3</td>\n",
       "    </tr>\n",
       "    <tr>\n",
       "      <th>180491</th>\n",
       "      <td>Fail</td>\n",
       "      <td>M</td>\n",
       "      <td>65</td>\n",
       "      <td>Brasil</td>\n",
       "      <td>Search</td>\n",
       "      <td>Suits &amp; Sport Coats</td>\n",
       "      <td>49.880001</td>\n",
       "      <td>6</td>\n",
       "    </tr>\n",
       "  </tbody>\n",
       "</table>\n",
       "<p>169201 rows × 8 columns</p>\n",
       "</div>"
      ],
      "text/plain": [
       "          status gender  age        country traffic_source  \\\n",
       "0       Complete      M   30    South Korea         Search   \n",
       "1       Complete      M   30    South Korea         Search   \n",
       "2       Complete      M   30    South Korea         Search   \n",
       "3       Complete      M   30    South Korea         Search   \n",
       "4           Fail      M   30    South Korea         Search   \n",
       "...          ...    ...  ...            ...            ...   \n",
       "180485      Fail      F   50  United States         Search   \n",
       "180486      Fail      F   50  United States         Search   \n",
       "180487      Fail      F   50  United States         Search   \n",
       "180488      Fail      F   63    South Korea         Search   \n",
       "180491      Fail      M   65         Brasil         Search   \n",
       "\n",
       "                   category  sale_price  distribution_center_id  \n",
       "0                     Jeans   68.949997                       8  \n",
       "1                      Swim   49.990002                       5  \n",
       "2               Tops & Tees   55.000000                       3  \n",
       "3                 Underwear   11.990000                       1  \n",
       "4            Sleep & Lounge   42.000000                       2  \n",
       "...                     ...         ...                     ...  \n",
       "180485       Pants & Capris   36.090000                      10  \n",
       "180486       Sleep & Lounge   25.000000                       8  \n",
       "180487                 Plus    8.990000                       1  \n",
       "180488       Pants & Capris   44.000000                       3  \n",
       "180491  Suits & Sport Coats   49.880001                       6  \n",
       "\n",
       "[169201 rows x 8 columns]"
      ]
     },
     "execution_count": 8,
     "metadata": {},
     "output_type": "execute_result"
    }
   ],
   "source": [
    "# mengeluarkan kolom yang sudah tidak diperlukan\n",
    "data = df.drop(['order_id', 'create_at', 'user_id', 'department'], axis=1)\n",
    "\n",
    "data"
   ]
  },
  {
   "cell_type": "markdown",
   "id": "46663a50",
   "metadata": {},
   "source": [
    "Kolom 'order_id', 'create_at', dan 'user_id' dikeluarkan dari data modeling karena kolom tersebut hanya dibutuhkan pada tahap data exploration. Sedangkan kolom 'department' tidak digunakan karena kolom tersebut memilki korelasi yang kuat dengan nilai pearson correlation adalah 1 terhadap kolom gender. Sehingga kolom departemen harus dikeluarkan."
   ]
  },
  {
   "cell_type": "code",
   "execution_count": 9,
   "id": "d32cf27f",
   "metadata": {},
   "outputs": [
    {
     "data": {
      "text/html": [
       "<div>\n",
       "<style scoped>\n",
       "    .dataframe tbody tr th:only-of-type {\n",
       "        vertical-align: middle;\n",
       "    }\n",
       "\n",
       "    .dataframe tbody tr th {\n",
       "        vertical-align: top;\n",
       "    }\n",
       "\n",
       "    .dataframe thead th {\n",
       "        text-align: right;\n",
       "    }\n",
       "</style>\n",
       "<table border=\"1\" class=\"dataframe\">\n",
       "  <thead>\n",
       "    <tr style=\"text-align: right;\">\n",
       "      <th></th>\n",
       "      <th>status</th>\n",
       "      <th>gender</th>\n",
       "      <th>age</th>\n",
       "      <th>country</th>\n",
       "      <th>traffic_source</th>\n",
       "      <th>category</th>\n",
       "      <th>sale_price</th>\n",
       "      <th>distribution_center_id</th>\n",
       "    </tr>\n",
       "  </thead>\n",
       "  <tbody>\n",
       "    <tr>\n",
       "      <th>0</th>\n",
       "      <td>1</td>\n",
       "      <td>M</td>\n",
       "      <td>30</td>\n",
       "      <td>South Korea</td>\n",
       "      <td>Search</td>\n",
       "      <td>Jeans</td>\n",
       "      <td>68.949997</td>\n",
       "      <td>8</td>\n",
       "    </tr>\n",
       "    <tr>\n",
       "      <th>1</th>\n",
       "      <td>1</td>\n",
       "      <td>M</td>\n",
       "      <td>30</td>\n",
       "      <td>South Korea</td>\n",
       "      <td>Search</td>\n",
       "      <td>Swim</td>\n",
       "      <td>49.990002</td>\n",
       "      <td>5</td>\n",
       "    </tr>\n",
       "    <tr>\n",
       "      <th>2</th>\n",
       "      <td>1</td>\n",
       "      <td>M</td>\n",
       "      <td>30</td>\n",
       "      <td>South Korea</td>\n",
       "      <td>Search</td>\n",
       "      <td>Tops &amp; Tees</td>\n",
       "      <td>55.000000</td>\n",
       "      <td>3</td>\n",
       "    </tr>\n",
       "    <tr>\n",
       "      <th>3</th>\n",
       "      <td>1</td>\n",
       "      <td>M</td>\n",
       "      <td>30</td>\n",
       "      <td>South Korea</td>\n",
       "      <td>Search</td>\n",
       "      <td>Underwear</td>\n",
       "      <td>11.990000</td>\n",
       "      <td>1</td>\n",
       "    </tr>\n",
       "    <tr>\n",
       "      <th>4</th>\n",
       "      <td>0</td>\n",
       "      <td>M</td>\n",
       "      <td>30</td>\n",
       "      <td>South Korea</td>\n",
       "      <td>Search</td>\n",
       "      <td>Sleep &amp; Lounge</td>\n",
       "      <td>42.000000</td>\n",
       "      <td>2</td>\n",
       "    </tr>\n",
       "    <tr>\n",
       "      <th>...</th>\n",
       "      <td>...</td>\n",
       "      <td>...</td>\n",
       "      <td>...</td>\n",
       "      <td>...</td>\n",
       "      <td>...</td>\n",
       "      <td>...</td>\n",
       "      <td>...</td>\n",
       "      <td>...</td>\n",
       "    </tr>\n",
       "    <tr>\n",
       "      <th>180485</th>\n",
       "      <td>0</td>\n",
       "      <td>F</td>\n",
       "      <td>50</td>\n",
       "      <td>United States</td>\n",
       "      <td>Search</td>\n",
       "      <td>Pants &amp; Capris</td>\n",
       "      <td>36.090000</td>\n",
       "      <td>10</td>\n",
       "    </tr>\n",
       "    <tr>\n",
       "      <th>180486</th>\n",
       "      <td>0</td>\n",
       "      <td>F</td>\n",
       "      <td>50</td>\n",
       "      <td>United States</td>\n",
       "      <td>Search</td>\n",
       "      <td>Sleep &amp; Lounge</td>\n",
       "      <td>25.000000</td>\n",
       "      <td>8</td>\n",
       "    </tr>\n",
       "    <tr>\n",
       "      <th>180487</th>\n",
       "      <td>0</td>\n",
       "      <td>F</td>\n",
       "      <td>50</td>\n",
       "      <td>United States</td>\n",
       "      <td>Search</td>\n",
       "      <td>Plus</td>\n",
       "      <td>8.990000</td>\n",
       "      <td>1</td>\n",
       "    </tr>\n",
       "    <tr>\n",
       "      <th>180488</th>\n",
       "      <td>0</td>\n",
       "      <td>F</td>\n",
       "      <td>63</td>\n",
       "      <td>South Korea</td>\n",
       "      <td>Search</td>\n",
       "      <td>Pants &amp; Capris</td>\n",
       "      <td>44.000000</td>\n",
       "      <td>3</td>\n",
       "    </tr>\n",
       "    <tr>\n",
       "      <th>180491</th>\n",
       "      <td>0</td>\n",
       "      <td>M</td>\n",
       "      <td>65</td>\n",
       "      <td>Brasil</td>\n",
       "      <td>Search</td>\n",
       "      <td>Suits &amp; Sport Coats</td>\n",
       "      <td>49.880001</td>\n",
       "      <td>6</td>\n",
       "    </tr>\n",
       "  </tbody>\n",
       "</table>\n",
       "<p>169201 rows × 8 columns</p>\n",
       "</div>"
      ],
      "text/plain": [
       "        status gender  age        country traffic_source             category  \\\n",
       "0            1      M   30    South Korea         Search                Jeans   \n",
       "1            1      M   30    South Korea         Search                 Swim   \n",
       "2            1      M   30    South Korea         Search          Tops & Tees   \n",
       "3            1      M   30    South Korea         Search            Underwear   \n",
       "4            0      M   30    South Korea         Search       Sleep & Lounge   \n",
       "...        ...    ...  ...            ...            ...                  ...   \n",
       "180485       0      F   50  United States         Search       Pants & Capris   \n",
       "180486       0      F   50  United States         Search       Sleep & Lounge   \n",
       "180487       0      F   50  United States         Search                 Plus   \n",
       "180488       0      F   63    South Korea         Search       Pants & Capris   \n",
       "180491       0      M   65         Brasil         Search  Suits & Sport Coats   \n",
       "\n",
       "        sale_price  distribution_center_id  \n",
       "0        68.949997                       8  \n",
       "1        49.990002                       5  \n",
       "2        55.000000                       3  \n",
       "3        11.990000                       1  \n",
       "4        42.000000                       2  \n",
       "...            ...                     ...  \n",
       "180485   36.090000                      10  \n",
       "180486   25.000000                       8  \n",
       "180487    8.990000                       1  \n",
       "180488   44.000000                       3  \n",
       "180491   49.880001                       6  \n",
       "\n",
       "[169201 rows x 8 columns]"
      ]
     },
     "execution_count": 9,
     "metadata": {},
     "output_type": "execute_result"
    }
   ],
   "source": [
    "# Mengubah nilai kolom Status 'Fail' menjadi 0 dan 'Complete' menjadi 1\n",
    "data['status'] = np.where(data['status'] == 'Fail', 0, 1)\n",
    "\n",
    "data"
   ]
  },
  {
   "cell_type": "code",
   "execution_count": 10,
   "id": "59ce5452",
   "metadata": {
    "scrolled": true
   },
   "outputs": [
    {
     "name": "stdout",
     "output_type": "stream",
     "text": [
      "<class 'pandas.core.frame.DataFrame'>\n",
      "Int64Index: 169201 entries, 0 to 180491\n",
      "Data columns (total 8 columns):\n",
      " #   Column                  Non-Null Count   Dtype  \n",
      "---  ------                  --------------   -----  \n",
      " 0   status                  169201 non-null  int32  \n",
      " 1   gender                  169201 non-null  object \n",
      " 2   age                     169201 non-null  int64  \n",
      " 3   country                 169201 non-null  object \n",
      " 4   traffic_source          169201 non-null  object \n",
      " 5   category                169201 non-null  object \n",
      " 6   sale_price              169201 non-null  float64\n",
      " 7   distribution_center_id  169201 non-null  int64  \n",
      "dtypes: float64(1), int32(1), int64(2), object(4)\n",
      "memory usage: 11.0+ MB\n"
     ]
    }
   ],
   "source": [
    "# Pengecekan ulang data type dan missing values\n",
    "data.info()"
   ]
  },
  {
   "cell_type": "markdown",
   "id": "ed312e21",
   "metadata": {},
   "source": [
    "Untuk melakukan modeling classification, Data kategorikal yang berbentuk object harus diubah kedalam bentuk integer agar dapat dipahami oleh model"
   ]
  },
  {
   "cell_type": "markdown",
   "id": "1c255bb3",
   "metadata": {},
   "source": [
    "## Exploratory Data Analysis"
   ]
  },
  {
   "cell_type": "code",
   "execution_count": 11,
   "id": "34c6bc7d",
   "metadata": {},
   "outputs": [
    {
     "name": "stdout",
     "output_type": "stream",
     "text": [
      "Ringkasan informasi singkat Data\n",
      "<class 'pandas.core.frame.DataFrame'>\n",
      "Int64Index: 169201 entries, 0 to 180491\n",
      "Data columns (total 8 columns):\n",
      " #   Column                  Non-Null Count   Dtype  \n",
      "---  ------                  --------------   -----  \n",
      " 0   status                  169201 non-null  int32  \n",
      " 1   gender                  169201 non-null  object \n",
      " 2   age                     169201 non-null  int64  \n",
      " 3   country                 169201 non-null  object \n",
      " 4   traffic_source          169201 non-null  object \n",
      " 5   category                169201 non-null  object \n",
      " 6   sale_price              169201 non-null  float64\n",
      " 7   distribution_center_id  169201 non-null  int64  \n",
      "dtypes: float64(1), int32(1), int64(2), object(4)\n",
      "memory usage: 11.0+ MB\n",
      "-------------------------------------------------\n",
      "Jumlah baris dan kolom data\n"
     ]
    },
    {
     "data": {
      "text/plain": [
       "(169201, 8)"
      ]
     },
     "execution_count": 11,
     "metadata": {},
     "output_type": "execute_result"
    }
   ],
   "source": [
    "# Melakukan pengecekan kembali terhadap dataset\n",
    "print('Ringkasan informasi singkat Data')\n",
    "data.info()\n",
    "\n",
    "print('-------------------------------------------------')\n",
    "\n",
    "# Menampilkan bentuk dataset\n",
    "print('Jumlah baris dan kolom data')\n",
    "data.shape"
   ]
  },
  {
   "cell_type": "markdown",
   "id": "f608cf49",
   "metadata": {},
   "source": [
    "Hasil dari ringkasan informasi data diatas menunjukkan bahwa dataset yang akan dipergunakan memiliki 168971 baris data pada masing masing kolomnya. Jumlah tersebut sama dengan dimensi dari data yaitu terdiri dari 168971 baris dan 8 kolom"
   ]
  },
  {
   "cell_type": "code",
   "execution_count": 12,
   "id": "92ac4079",
   "metadata": {},
   "outputs": [
    {
     "name": "stdout",
     "output_type": "stream",
     "text": [
      "Numerical variables:\n",
      "['status', 'age', 'sale_price', 'distribution_center_id']\n",
      "----------------------\n",
      "Categorical variables:\n",
      "['gender', 'country', 'traffic_source', 'category']\n"
     ]
    }
   ],
   "source": [
    "# Memisahkan data numerik dan kategorik\n",
    "numerical_variables = data.select_dtypes(include=\"number\").columns.tolist()\n",
    "categorical_variables = data.select_dtypes(include=\"object\").columns.tolist()\n",
    "\n",
    "print(\"Numerical variables:\")\n",
    "print(numerical_variables)\n",
    "print('----------------------')\n",
    "print(\"Categorical variables:\")\n",
    "print(categorical_variables)"
   ]
  },
  {
   "cell_type": "code",
   "execution_count": 13,
   "id": "5b08c6d6",
   "metadata": {},
   "outputs": [
    {
     "name": "stdout",
     "output_type": "stream",
     "text": [
      "Descriptive Statistics numerical_variables.\n"
     ]
    },
    {
     "data": {
      "text/html": [
       "<div>\n",
       "<style scoped>\n",
       "    .dataframe tbody tr th:only-of-type {\n",
       "        vertical-align: middle;\n",
       "    }\n",
       "\n",
       "    .dataframe tbody tr th {\n",
       "        vertical-align: top;\n",
       "    }\n",
       "\n",
       "    .dataframe thead th {\n",
       "        text-align: right;\n",
       "    }\n",
       "</style>\n",
       "<table border=\"1\" class=\"dataframe\">\n",
       "  <thead>\n",
       "    <tr style=\"text-align: right;\">\n",
       "      <th></th>\n",
       "      <th>count</th>\n",
       "      <th>mean</th>\n",
       "      <th>std</th>\n",
       "      <th>min</th>\n",
       "      <th>25%</th>\n",
       "      <th>50%</th>\n",
       "      <th>75%</th>\n",
       "      <th>max</th>\n",
       "    </tr>\n",
       "  </thead>\n",
       "  <tbody>\n",
       "    <tr>\n",
       "      <th>status</th>\n",
       "      <td>169201.0</td>\n",
       "      <td>0.267605</td>\n",
       "      <td>0.442712</td>\n",
       "      <td>0.00</td>\n",
       "      <td>0.0</td>\n",
       "      <td>0.000000</td>\n",
       "      <td>1.000000</td>\n",
       "      <td>1.0</td>\n",
       "    </tr>\n",
       "    <tr>\n",
       "      <th>age</th>\n",
       "      <td>169201.0</td>\n",
       "      <td>41.060768</td>\n",
       "      <td>16.992998</td>\n",
       "      <td>12.00</td>\n",
       "      <td>26.0</td>\n",
       "      <td>41.000000</td>\n",
       "      <td>56.000000</td>\n",
       "      <td>70.0</td>\n",
       "    </tr>\n",
       "    <tr>\n",
       "      <th>sale_price</th>\n",
       "      <td>169201.0</td>\n",
       "      <td>59.835040</td>\n",
       "      <td>65.816069</td>\n",
       "      <td>0.02</td>\n",
       "      <td>24.9</td>\n",
       "      <td>39.990002</td>\n",
       "      <td>69.980003</td>\n",
       "      <td>999.0</td>\n",
       "    </tr>\n",
       "    <tr>\n",
       "      <th>distribution_center_id</th>\n",
       "      <td>169201.0</td>\n",
       "      <td>4.993044</td>\n",
       "      <td>2.894375</td>\n",
       "      <td>1.00</td>\n",
       "      <td>2.0</td>\n",
       "      <td>5.000000</td>\n",
       "      <td>8.000000</td>\n",
       "      <td>10.0</td>\n",
       "    </tr>\n",
       "  </tbody>\n",
       "</table>\n",
       "</div>"
      ],
      "text/plain": [
       "                           count       mean        std    min   25%  \\\n",
       "status                  169201.0   0.267605   0.442712   0.00   0.0   \n",
       "age                     169201.0  41.060768  16.992998  12.00  26.0   \n",
       "sale_price              169201.0  59.835040  65.816069   0.02  24.9   \n",
       "distribution_center_id  169201.0   4.993044   2.894375   1.00   2.0   \n",
       "\n",
       "                              50%        75%    max  \n",
       "status                   0.000000   1.000000    1.0  \n",
       "age                     41.000000  56.000000   70.0  \n",
       "sale_price              39.990002  69.980003  999.0  \n",
       "distribution_center_id   5.000000   8.000000   10.0  "
      ]
     },
     "execution_count": 13,
     "metadata": {},
     "output_type": "execute_result"
    }
   ],
   "source": [
    "# Menampilkan descriptive statistics dari data numerik\n",
    "print('Descriptive Statistics numerical_variables.')\n",
    "data[numerical_variables].describe().T"
   ]
  },
  {
   "cell_type": "code",
   "execution_count": 14,
   "id": "538d1cfd",
   "metadata": {},
   "outputs": [
    {
     "name": "stdout",
     "output_type": "stream",
     "text": [
      "Descriptive Statistics categorical_variables\n"
     ]
    },
    {
     "data": {
      "text/html": [
       "<div>\n",
       "<style scoped>\n",
       "    .dataframe tbody tr th:only-of-type {\n",
       "        vertical-align: middle;\n",
       "    }\n",
       "\n",
       "    .dataframe tbody tr th {\n",
       "        vertical-align: top;\n",
       "    }\n",
       "\n",
       "    .dataframe thead th {\n",
       "        text-align: right;\n",
       "    }\n",
       "</style>\n",
       "<table border=\"1\" class=\"dataframe\">\n",
       "  <thead>\n",
       "    <tr style=\"text-align: right;\">\n",
       "      <th></th>\n",
       "      <th>count</th>\n",
       "      <th>unique</th>\n",
       "      <th>top</th>\n",
       "      <th>freq</th>\n",
       "    </tr>\n",
       "  </thead>\n",
       "  <tbody>\n",
       "    <tr>\n",
       "      <th>gender</th>\n",
       "      <td>169201</td>\n",
       "      <td>2</td>\n",
       "      <td>M</td>\n",
       "      <td>84810</td>\n",
       "    </tr>\n",
       "    <tr>\n",
       "      <th>country</th>\n",
       "      <td>169201</td>\n",
       "      <td>15</td>\n",
       "      <td>China</td>\n",
       "      <td>57669</td>\n",
       "    </tr>\n",
       "    <tr>\n",
       "      <th>traffic_source</th>\n",
       "      <td>169201</td>\n",
       "      <td>5</td>\n",
       "      <td>Search</td>\n",
       "      <td>118605</td>\n",
       "    </tr>\n",
       "    <tr>\n",
       "      <th>category</th>\n",
       "      <td>169201</td>\n",
       "      <td>26</td>\n",
       "      <td>Intimates</td>\n",
       "      <td>12560</td>\n",
       "    </tr>\n",
       "  </tbody>\n",
       "</table>\n",
       "</div>"
      ],
      "text/plain": [
       "                 count unique        top    freq\n",
       "gender          169201      2          M   84810\n",
       "country         169201     15      China   57669\n",
       "traffic_source  169201      5     Search  118605\n",
       "category        169201     26  Intimates   12560"
      ]
     },
     "execution_count": 14,
     "metadata": {},
     "output_type": "execute_result"
    }
   ],
   "source": [
    "# Menampilkan descriptive statistics dari data kategorikal\n",
    "print('Descriptive Statistics categorical_variables')\n",
    "data[categorical_variables].describe().T"
   ]
  },
  {
   "cell_type": "markdown",
   "id": "bdd843e7",
   "metadata": {},
   "source": [
    "#### Berapa banyak transaksi yang berhasil ?"
   ]
  },
  {
   "cell_type": "code",
   "execution_count": 15,
   "id": "ecd57973",
   "metadata": {},
   "outputs": [
    {
     "data": {
      "image/png": "[encoded data removed]",
      "text/plain": [
       "<Figure size 720x360 with 2 Axes>"
      ]
     },
     "metadata": {
      "needs_background": "light"
     },
     "output_type": "display_data"
    }
   ],
   "source": [
    "# Menghitung jumlah transaksi yang tergolong 'Complete' dan 'Fail'\n",
    "f,ax=plt.subplots(1,2,figsize=(10,5))\n",
    "\n",
    "df['status'].value_counts().plot.pie(explode=[0,0.1],autopct='%1.1f%%',ax=ax[0],shadow=True)\n",
    "ax[0].set_title('Persentase Status Transaksi')\n",
    "ax[0].set_ylabel('')\n",
    "\n",
    "sns.countplot('status',data=data,ax=ax[1])\n",
    "ax[1].set_title('Jumlah Status Transaksi')\n",
    "\n",
    "plt.show()"
   ]
  },
  {
   "cell_type": "code",
   "execution_count": 16,
   "id": "7bb74d57",
   "metadata": {},
   "outputs": [
    {
     "data": {
      "text/plain": [
       "[Text(0.5, 1.0, 'Jumlah Status Transaksi Berdasarkan gender')]"
      ]
     },
     "execution_count": 16,
     "metadata": {},
     "output_type": "execute_result"
    },
    {
     "data": {
      "image/png": "[encoded data removed]",
      "text/plain": [
       "<Figure size 432x288 with 1 Axes>"
      ]
     },
     "metadata": {
      "needs_background": "light"
     },
     "output_type": "display_data"
    }
   ],
   "source": [
    "# Menghitung jumlah status berdasarkan gender customer\n",
    "\n",
    "sns.countplot(\n",
    "    x ='gender'\n",
    "    , hue = 'status'\n",
    "    , data = data\n",
    ").set(title='Jumlah Status Transaksi Berdasarkan gender')"
   ]
  },
  {
   "cell_type": "code",
   "execution_count": 17,
   "id": "ec90585f",
   "metadata": {},
   "outputs": [
    {
     "data": {
      "text/plain": [
       "[Text(0.5, 1.0, 'Distribusi Umur customer Berdasarkan gender dan Status')]"
      ]
     },
     "execution_count": 17,
     "metadata": {},
     "output_type": "execute_result"
    },
    {
     "data": {
      "image/png": "[encoded data removed]",
      "text/plain": [
       "<Figure size 432x288 with 1 Axes>"
      ]
     },
     "metadata": {
      "needs_background": "light"
     },
     "output_type": "display_data"
    }
   ],
   "source": [
    "# Distribusi umur customer berdasarkan gender dan status transaksi\n",
    "\n",
    "sns.violinplot(\n",
    "    x='gender'\n",
    "    , y='age'\n",
    "    , hue='status'\n",
    "    , data=data\n",
    "    , split=True\n",
    "    , scale=\"count\"\n",
    ").set(title='Distribusi Umur customer Berdasarkan gender dan Status')"
   ]
  },
  {
   "cell_type": "markdown",
   "id": "11f2362d",
   "metadata": {},
   "source": [
    "Hasil violinplot diatas menunjukkan bahwa umur user terdistribusi merata dimana antara user laki laki dan perempuan memiliki kondisi yang relatif sama"
   ]
  },
  {
   "cell_type": "code",
   "execution_count": 18,
   "id": "ad3f4082",
   "metadata": {},
   "outputs": [
    {
     "data": {
      "image/png": "[encoded data removed]",
      "text/plain": [
       "<Figure size 432x288 with 1 Axes>"
      ]
     },
     "metadata": {
      "needs_background": "light"
     },
     "output_type": "display_data"
    }
   ],
   "source": [
    "# Menampilkan jumlah Status Transaksi Berdasarkan Traffic Source\n",
    "\n",
    "# Membuat order untuk mengurutkan visualisasi\n",
    "traffic_source_order = data.traffic_source.value_counts().index\n",
    "\n",
    "plt.figure(figsize=(6, 4))\n",
    "sns.countplot(\n",
    "    x='traffic_source',\n",
    "    hue = 'status',\n",
    "    data=data,\n",
    "    order=traffic_source_order\n",
    ").set(title='Jumlah Status Transaksi Berdasarkan traffic_source')\n",
    "\n",
    "plt.grid(False)\n",
    "plt.show()"
   ]
  },
  {
   "cell_type": "code",
   "execution_count": 19,
   "id": "3b331824",
   "metadata": {},
   "outputs": [
    {
     "data": {
      "image/png": "[encoded data removed]",
      "text/plain": [
       "<Figure size 720x1080 with 1 Axes>"
      ]
     },
     "metadata": {
      "needs_background": "light"
     },
     "output_type": "display_data"
    }
   ],
   "source": [
    "# Menampilkan jumlah Status Transaksi Berdasarkan Category\n",
    "\n",
    "# Membuat order untuk mengurutkan visualisasi\n",
    "category_order = data.category.value_counts().index\n",
    "\n",
    "plt.figure(figsize=(10, 15))\n",
    "sns.countplot(\n",
    "    y=\"category\",\n",
    "    hue = 'status',\n",
    "    data=data,\n",
    "    order=category_order\n",
    ").set(title='Jumlah Status Transaksi Berdasarkan Category')\n",
    "plt.grid(False)\n",
    "plt.show()"
   ]
  },
  {
   "cell_type": "code",
   "execution_count": 20,
   "id": "d14d26cc",
   "metadata": {},
   "outputs": [
    {
     "data": {
      "image/png": "[encoded data removed]",
      "text/plain": [
       "<Figure size 720x720 with 1 Axes>"
      ]
     },
     "metadata": {
      "needs_background": "light"
     },
     "output_type": "display_data"
    }
   ],
   "source": [
    "# Menampilkan jumlah Status Transaksi Berdasarkan Distribution Center\n",
    "\n",
    "# Membuat order untuk mengurutkan visualisasi\n",
    "distribution_center_order = data.distribution_center_id.value_counts().index\n",
    "\n",
    "plt.figure(figsize=(10, 10))\n",
    "sns.countplot(\n",
    "    y=\"distribution_center_id\"\n",
    "    , hue = 'status'\n",
    "    , data=data\n",
    "    , order=distribution_center_order\n",
    ").set(title='Jumlah Status Transaksi Berdasarkan distribution_center')\n",
    "plt.grid(False)\n",
    "plt.show()"
   ]
  },
  {
   "cell_type": "markdown",
   "id": "d1bed1cf",
   "metadata": {},
   "source": [
    "## Data Preparation"
   ]
  },
  {
   "cell_type": "code",
   "execution_count": 21,
   "id": "99bdc4f7",
   "metadata": {
    "scrolled": false
   },
   "outputs": [
    {
     "data": {
      "text/html": [
       "<div>\n",
       "<style scoped>\n",
       "    .dataframe tbody tr th:only-of-type {\n",
       "        vertical-align: middle;\n",
       "    }\n",
       "\n",
       "    .dataframe tbody tr th {\n",
       "        vertical-align: top;\n",
       "    }\n",
       "\n",
       "    .dataframe thead th {\n",
       "        text-align: right;\n",
       "    }\n",
       "</style>\n",
       "<table border=\"1\" class=\"dataframe\">\n",
       "  <thead>\n",
       "    <tr style=\"text-align: right;\">\n",
       "      <th></th>\n",
       "      <th>status</th>\n",
       "      <th>gender</th>\n",
       "      <th>age</th>\n",
       "      <th>country</th>\n",
       "      <th>traffic_source</th>\n",
       "      <th>category</th>\n",
       "      <th>sale_price</th>\n",
       "      <th>distribution_center_id</th>\n",
       "    </tr>\n",
       "  </thead>\n",
       "  <tbody>\n",
       "    <tr>\n",
       "      <th>0</th>\n",
       "      <td>1</td>\n",
       "      <td>1</td>\n",
       "      <td>30</td>\n",
       "      <td>11</td>\n",
       "      <td>4</td>\n",
       "      <td>7</td>\n",
       "      <td>68.949997</td>\n",
       "      <td>8</td>\n",
       "    </tr>\n",
       "    <tr>\n",
       "      <th>1</th>\n",
       "      <td>1</td>\n",
       "      <td>1</td>\n",
       "      <td>30</td>\n",
       "      <td>11</td>\n",
       "      <td>4</td>\n",
       "      <td>23</td>\n",
       "      <td>49.990002</td>\n",
       "      <td>5</td>\n",
       "    </tr>\n",
       "    <tr>\n",
       "      <th>2</th>\n",
       "      <td>1</td>\n",
       "      <td>1</td>\n",
       "      <td>30</td>\n",
       "      <td>11</td>\n",
       "      <td>4</td>\n",
       "      <td>24</td>\n",
       "      <td>55.000000</td>\n",
       "      <td>3</td>\n",
       "    </tr>\n",
       "    <tr>\n",
       "      <th>3</th>\n",
       "      <td>1</td>\n",
       "      <td>1</td>\n",
       "      <td>30</td>\n",
       "      <td>11</td>\n",
       "      <td>4</td>\n",
       "      <td>25</td>\n",
       "      <td>11.990000</td>\n",
       "      <td>1</td>\n",
       "    </tr>\n",
       "    <tr>\n",
       "      <th>4</th>\n",
       "      <td>0</td>\n",
       "      <td>1</td>\n",
       "      <td>30</td>\n",
       "      <td>11</td>\n",
       "      <td>4</td>\n",
       "      <td>17</td>\n",
       "      <td>42.000000</td>\n",
       "      <td>2</td>\n",
       "    </tr>\n",
       "    <tr>\n",
       "      <th>...</th>\n",
       "      <td>...</td>\n",
       "      <td>...</td>\n",
       "      <td>...</td>\n",
       "      <td>...</td>\n",
       "      <td>...</td>\n",
       "      <td>...</td>\n",
       "      <td>...</td>\n",
       "      <td>...</td>\n",
       "    </tr>\n",
       "    <tr>\n",
       "      <th>180485</th>\n",
       "      <td>0</td>\n",
       "      <td>0</td>\n",
       "      <td>50</td>\n",
       "      <td>14</td>\n",
       "      <td>4</td>\n",
       "      <td>13</td>\n",
       "      <td>36.090000</td>\n",
       "      <td>10</td>\n",
       "    </tr>\n",
       "    <tr>\n",
       "      <th>180486</th>\n",
       "      <td>0</td>\n",
       "      <td>0</td>\n",
       "      <td>50</td>\n",
       "      <td>14</td>\n",
       "      <td>4</td>\n",
       "      <td>17</td>\n",
       "      <td>25.000000</td>\n",
       "      <td>8</td>\n",
       "    </tr>\n",
       "    <tr>\n",
       "      <th>180487</th>\n",
       "      <td>0</td>\n",
       "      <td>0</td>\n",
       "      <td>50</td>\n",
       "      <td>14</td>\n",
       "      <td>4</td>\n",
       "      <td>14</td>\n",
       "      <td>8.990000</td>\n",
       "      <td>1</td>\n",
       "    </tr>\n",
       "    <tr>\n",
       "      <th>180488</th>\n",
       "      <td>0</td>\n",
       "      <td>0</td>\n",
       "      <td>63</td>\n",
       "      <td>11</td>\n",
       "      <td>4</td>\n",
       "      <td>13</td>\n",
       "      <td>44.000000</td>\n",
       "      <td>3</td>\n",
       "    </tr>\n",
       "    <tr>\n",
       "      <th>180491</th>\n",
       "      <td>0</td>\n",
       "      <td>1</td>\n",
       "      <td>65</td>\n",
       "      <td>3</td>\n",
       "      <td>4</td>\n",
       "      <td>21</td>\n",
       "      <td>49.880001</td>\n",
       "      <td>6</td>\n",
       "    </tr>\n",
       "  </tbody>\n",
       "</table>\n",
       "<p>169201 rows × 8 columns</p>\n",
       "</div>"
      ],
      "text/plain": [
       "        status  gender  age  country  traffic_source  category  sale_price  \\\n",
       "0            1       1   30       11               4         7   68.949997   \n",
       "1            1       1   30       11               4        23   49.990002   \n",
       "2            1       1   30       11               4        24   55.000000   \n",
       "3            1       1   30       11               4        25   11.990000   \n",
       "4            0       1   30       11               4        17   42.000000   \n",
       "...        ...     ...  ...      ...             ...       ...         ...   \n",
       "180485       0       0   50       14               4        13   36.090000   \n",
       "180486       0       0   50       14               4        17   25.000000   \n",
       "180487       0       0   50       14               4        14    8.990000   \n",
       "180488       0       0   63       11               4        13   44.000000   \n",
       "180491       0       1   65        3               4        21   49.880001   \n",
       "\n",
       "        distribution_center_id  \n",
       "0                            8  \n",
       "1                            5  \n",
       "2                            3  \n",
       "3                            1  \n",
       "4                            2  \n",
       "...                        ...  \n",
       "180485                      10  \n",
       "180486                       8  \n",
       "180487                       1  \n",
       "180488                       3  \n",
       "180491                       6  \n",
       "\n",
       "[169201 rows x 8 columns]"
      ]
     },
     "execution_count": 21,
     "metadata": {},
     "output_type": "execute_result"
    }
   ],
   "source": [
    "# Mengubah value pada kolom yang berbentuk object kedalam bentuk integer\n",
    "label_encoder = preprocessing.LabelEncoder()\n",
    "data['gender']= label_encoder.fit_transform(data['gender'])\n",
    "data['country']= label_encoder.fit_transform(data['country'])\n",
    "data['traffic_source']= label_encoder.fit_transform(data['traffic_source'])\n",
    "data['category']= label_encoder.fit_transform(data['category'])\n",
    "\n",
    "data"
   ]
  },
  {
   "cell_type": "markdown",
   "id": "b20e0031",
   "metadata": {},
   "source": []
  },
  {
   "cell_type": "code",
   "execution_count": 22,
   "id": "6d82a620",
   "metadata": {
    "scrolled": false
   },
   "outputs": [
    {
     "data": {
      "text/html": [
       "<div>\n",
       "<style scoped>\n",
       "    .dataframe tbody tr th:only-of-type {\n",
       "        vertical-align: middle;\n",
       "    }\n",
       "\n",
       "    .dataframe tbody tr th {\n",
       "        vertical-align: top;\n",
       "    }\n",
       "\n",
       "    .dataframe thead th {\n",
       "        text-align: right;\n",
       "    }\n",
       "</style>\n",
       "<table border=\"1\" class=\"dataframe\">\n",
       "  <thead>\n",
       "    <tr style=\"text-align: right;\">\n",
       "      <th></th>\n",
       "      <th>status</th>\n",
       "      <th>gender</th>\n",
       "      <th>age</th>\n",
       "      <th>country</th>\n",
       "      <th>traffic_source</th>\n",
       "      <th>category</th>\n",
       "      <th>sale_price</th>\n",
       "      <th>distribution_center_id</th>\n",
       "    </tr>\n",
       "  </thead>\n",
       "  <tbody>\n",
       "    <tr>\n",
       "      <th>0</th>\n",
       "      <td>1.654344</td>\n",
       "      <td>0.997527</td>\n",
       "      <td>-0.650903</td>\n",
       "      <td>0.757834</td>\n",
       "      <td>0.541449</td>\n",
       "      <td>-0.734579</td>\n",
       "      <td>0.138492</td>\n",
       "      <td>1.038900</td>\n",
       "    </tr>\n",
       "    <tr>\n",
       "      <th>1</th>\n",
       "      <td>1.654344</td>\n",
       "      <td>0.997527</td>\n",
       "      <td>-0.650903</td>\n",
       "      <td>0.757834</td>\n",
       "      <td>0.541449</td>\n",
       "      <td>1.288855</td>\n",
       "      <td>-0.149585</td>\n",
       "      <td>0.002403</td>\n",
       "    </tr>\n",
       "    <tr>\n",
       "      <th>2</th>\n",
       "      <td>1.654344</td>\n",
       "      <td>0.997527</td>\n",
       "      <td>-0.650903</td>\n",
       "      <td>0.757834</td>\n",
       "      <td>0.541449</td>\n",
       "      <td>1.415320</td>\n",
       "      <td>-0.073463</td>\n",
       "      <td>-0.688594</td>\n",
       "    </tr>\n",
       "    <tr>\n",
       "      <th>3</th>\n",
       "      <td>1.654344</td>\n",
       "      <td>0.997527</td>\n",
       "      <td>-0.650903</td>\n",
       "      <td>0.757834</td>\n",
       "      <td>0.541449</td>\n",
       "      <td>1.541785</td>\n",
       "      <td>-0.726953</td>\n",
       "      <td>-1.379592</td>\n",
       "    </tr>\n",
       "    <tr>\n",
       "      <th>4</th>\n",
       "      <td>-0.604469</td>\n",
       "      <td>0.997527</td>\n",
       "      <td>-0.650903</td>\n",
       "      <td>0.757834</td>\n",
       "      <td>0.541449</td>\n",
       "      <td>0.530068</td>\n",
       "      <td>-0.270984</td>\n",
       "      <td>-1.034093</td>\n",
       "    </tr>\n",
       "    <tr>\n",
       "      <th>...</th>\n",
       "      <td>...</td>\n",
       "      <td>...</td>\n",
       "      <td>...</td>\n",
       "      <td>...</td>\n",
       "      <td>...</td>\n",
       "      <td>...</td>\n",
       "      <td>...</td>\n",
       "      <td>...</td>\n",
       "    </tr>\n",
       "    <tr>\n",
       "      <th>169196</th>\n",
       "      <td>-0.604469</td>\n",
       "      <td>-1.002479</td>\n",
       "      <td>0.526055</td>\n",
       "      <td>1.410777</td>\n",
       "      <td>0.541449</td>\n",
       "      <td>0.024209</td>\n",
       "      <td>-0.360780</td>\n",
       "      <td>1.729897</td>\n",
       "    </tr>\n",
       "    <tr>\n",
       "      <th>169197</th>\n",
       "      <td>-0.604469</td>\n",
       "      <td>-1.002479</td>\n",
       "      <td>0.526055</td>\n",
       "      <td>1.410777</td>\n",
       "      <td>0.541449</td>\n",
       "      <td>0.530068</td>\n",
       "      <td>-0.529280</td>\n",
       "      <td>1.038900</td>\n",
       "    </tr>\n",
       "    <tr>\n",
       "      <th>169198</th>\n",
       "      <td>-0.604469</td>\n",
       "      <td>-1.002479</td>\n",
       "      <td>0.526055</td>\n",
       "      <td>1.410777</td>\n",
       "      <td>0.541449</td>\n",
       "      <td>0.150674</td>\n",
       "      <td>-0.772535</td>\n",
       "      <td>-1.379592</td>\n",
       "    </tr>\n",
       "    <tr>\n",
       "      <th>169199</th>\n",
       "      <td>-0.604469</td>\n",
       "      <td>-1.002479</td>\n",
       "      <td>1.291079</td>\n",
       "      <td>0.757834</td>\n",
       "      <td>0.541449</td>\n",
       "      <td>0.024209</td>\n",
       "      <td>-0.240596</td>\n",
       "      <td>-0.688594</td>\n",
       "    </tr>\n",
       "    <tr>\n",
       "      <th>169200</th>\n",
       "      <td>-0.604469</td>\n",
       "      <td>0.997527</td>\n",
       "      <td>1.408775</td>\n",
       "      <td>-0.983348</td>\n",
       "      <td>0.541449</td>\n",
       "      <td>1.035926</td>\n",
       "      <td>-0.151256</td>\n",
       "      <td>0.347902</td>\n",
       "    </tr>\n",
       "  </tbody>\n",
       "</table>\n",
       "<p>169201 rows × 8 columns</p>\n",
       "</div>"
      ],
      "text/plain": [
       "          status    gender       age   country  traffic_source  category  \\\n",
       "0       1.654344  0.997527 -0.650903  0.757834        0.541449 -0.734579   \n",
       "1       1.654344  0.997527 -0.650903  0.757834        0.541449  1.288855   \n",
       "2       1.654344  0.997527 -0.650903  0.757834        0.541449  1.415320   \n",
       "3       1.654344  0.997527 -0.650903  0.757834        0.541449  1.541785   \n",
       "4      -0.604469  0.997527 -0.650903  0.757834        0.541449  0.530068   \n",
       "...          ...       ...       ...       ...             ...       ...   \n",
       "169196 -0.604469 -1.002479  0.526055  1.410777        0.541449  0.024209   \n",
       "169197 -0.604469 -1.002479  0.526055  1.410777        0.541449  0.530068   \n",
       "169198 -0.604469 -1.002479  0.526055  1.410777        0.541449  0.150674   \n",
       "169199 -0.604469 -1.002479  1.291079  0.757834        0.541449  0.024209   \n",
       "169200 -0.604469  0.997527  1.408775 -0.983348        0.541449  1.035926   \n",
       "\n",
       "        sale_price  distribution_center_id  \n",
       "0         0.138492                1.038900  \n",
       "1        -0.149585                0.002403  \n",
       "2        -0.073463               -0.688594  \n",
       "3        -0.726953               -1.379592  \n",
       "4        -0.270984               -1.034093  \n",
       "...            ...                     ...  \n",
       "169196   -0.360780                1.729897  \n",
       "169197   -0.529280                1.038900  \n",
       "169198   -0.772535               -1.379592  \n",
       "169199   -0.240596               -0.688594  \n",
       "169200   -0.151256                0.347902  \n",
       "\n",
       "[169201 rows x 8 columns]"
      ]
     },
     "execution_count": 22,
     "metadata": {},
     "output_type": "execute_result"
    }
   ],
   "source": [
    "# Scaling data menggunakan StandardScaler\n",
    "scaler = StandardScaler()\n",
    "scaler.fit(data)\n",
    "\n",
    "data_scaled = pd.DataFrame(\n",
    "    scaler.transform(data),\n",
    "    columns=data.columns\n",
    ")\n",
    "\n",
    "data_scaled"
   ]
  },
  {
   "cell_type": "markdown",
   "id": "5a8b8426",
   "metadata": {},
   "source": [
    "Hasil dari StandardScaler diatas mengubah data yang ada agar memiliki jarak antar data yang tidak terpaut jauh. Hasil dari StandardScaler membuat nilai dari data menjadi float, termasuk nilai dari label/target. Pada Model classification, target / label tidak bisa bernilai continuous / float maka kita perlu mengubah kembali nilai label kedalam bentuk integer 1 dan 0 "
   ]
  },
  {
   "cell_type": "code",
   "execution_count": 23,
   "id": "5537cfad",
   "metadata": {},
   "outputs": [
    {
     "data": {
      "text/html": [
       "<div>\n",
       "<style scoped>\n",
       "    .dataframe tbody tr th:only-of-type {\n",
       "        vertical-align: middle;\n",
       "    }\n",
       "\n",
       "    .dataframe tbody tr th {\n",
       "        vertical-align: top;\n",
       "    }\n",
       "\n",
       "    .dataframe thead th {\n",
       "        text-align: right;\n",
       "    }\n",
       "</style>\n",
       "<table border=\"1\" class=\"dataframe\">\n",
       "  <thead>\n",
       "    <tr style=\"text-align: right;\">\n",
       "      <th></th>\n",
       "      <th>status</th>\n",
       "      <th>gender</th>\n",
       "      <th>age</th>\n",
       "      <th>country</th>\n",
       "      <th>traffic_source</th>\n",
       "      <th>category</th>\n",
       "      <th>sale_price</th>\n",
       "      <th>distribution_center_id</th>\n",
       "    </tr>\n",
       "  </thead>\n",
       "  <tbody>\n",
       "    <tr>\n",
       "      <th>0</th>\n",
       "      <td>1</td>\n",
       "      <td>0.997527</td>\n",
       "      <td>-0.650903</td>\n",
       "      <td>0.757834</td>\n",
       "      <td>0.541449</td>\n",
       "      <td>-0.734579</td>\n",
       "      <td>0.138492</td>\n",
       "      <td>1.038900</td>\n",
       "    </tr>\n",
       "    <tr>\n",
       "      <th>1</th>\n",
       "      <td>1</td>\n",
       "      <td>0.997527</td>\n",
       "      <td>-0.650903</td>\n",
       "      <td>0.757834</td>\n",
       "      <td>0.541449</td>\n",
       "      <td>1.288855</td>\n",
       "      <td>-0.149585</td>\n",
       "      <td>0.002403</td>\n",
       "    </tr>\n",
       "    <tr>\n",
       "      <th>2</th>\n",
       "      <td>1</td>\n",
       "      <td>0.997527</td>\n",
       "      <td>-0.650903</td>\n",
       "      <td>0.757834</td>\n",
       "      <td>0.541449</td>\n",
       "      <td>1.415320</td>\n",
       "      <td>-0.073463</td>\n",
       "      <td>-0.688594</td>\n",
       "    </tr>\n",
       "    <tr>\n",
       "      <th>3</th>\n",
       "      <td>1</td>\n",
       "      <td>0.997527</td>\n",
       "      <td>-0.650903</td>\n",
       "      <td>0.757834</td>\n",
       "      <td>0.541449</td>\n",
       "      <td>1.541785</td>\n",
       "      <td>-0.726953</td>\n",
       "      <td>-1.379592</td>\n",
       "    </tr>\n",
       "    <tr>\n",
       "      <th>4</th>\n",
       "      <td>0</td>\n",
       "      <td>0.997527</td>\n",
       "      <td>-0.650903</td>\n",
       "      <td>0.757834</td>\n",
       "      <td>0.541449</td>\n",
       "      <td>0.530068</td>\n",
       "      <td>-0.270984</td>\n",
       "      <td>-1.034093</td>\n",
       "    </tr>\n",
       "    <tr>\n",
       "      <th>...</th>\n",
       "      <td>...</td>\n",
       "      <td>...</td>\n",
       "      <td>...</td>\n",
       "      <td>...</td>\n",
       "      <td>...</td>\n",
       "      <td>...</td>\n",
       "      <td>...</td>\n",
       "      <td>...</td>\n",
       "    </tr>\n",
       "    <tr>\n",
       "      <th>169196</th>\n",
       "      <td>0</td>\n",
       "      <td>-1.002479</td>\n",
       "      <td>0.526055</td>\n",
       "      <td>1.410777</td>\n",
       "      <td>0.541449</td>\n",
       "      <td>0.024209</td>\n",
       "      <td>-0.360780</td>\n",
       "      <td>1.729897</td>\n",
       "    </tr>\n",
       "    <tr>\n",
       "      <th>169197</th>\n",
       "      <td>0</td>\n",
       "      <td>-1.002479</td>\n",
       "      <td>0.526055</td>\n",
       "      <td>1.410777</td>\n",
       "      <td>0.541449</td>\n",
       "      <td>0.530068</td>\n",
       "      <td>-0.529280</td>\n",
       "      <td>1.038900</td>\n",
       "    </tr>\n",
       "    <tr>\n",
       "      <th>169198</th>\n",
       "      <td>0</td>\n",
       "      <td>-1.002479</td>\n",
       "      <td>0.526055</td>\n",
       "      <td>1.410777</td>\n",
       "      <td>0.541449</td>\n",
       "      <td>0.150674</td>\n",
       "      <td>-0.772535</td>\n",
       "      <td>-1.379592</td>\n",
       "    </tr>\n",
       "    <tr>\n",
       "      <th>169199</th>\n",
       "      <td>0</td>\n",
       "      <td>-1.002479</td>\n",
       "      <td>1.291079</td>\n",
       "      <td>0.757834</td>\n",
       "      <td>0.541449</td>\n",
       "      <td>0.024209</td>\n",
       "      <td>-0.240596</td>\n",
       "      <td>-0.688594</td>\n",
       "    </tr>\n",
       "    <tr>\n",
       "      <th>169200</th>\n",
       "      <td>0</td>\n",
       "      <td>0.997527</td>\n",
       "      <td>1.408775</td>\n",
       "      <td>-0.983348</td>\n",
       "      <td>0.541449</td>\n",
       "      <td>1.035926</td>\n",
       "      <td>-0.151256</td>\n",
       "      <td>0.347902</td>\n",
       "    </tr>\n",
       "  </tbody>\n",
       "</table>\n",
       "<p>169201 rows × 8 columns</p>\n",
       "</div>"
      ],
      "text/plain": [
       "        status    gender       age   country  traffic_source  category  \\\n",
       "0            1  0.997527 -0.650903  0.757834        0.541449 -0.734579   \n",
       "1            1  0.997527 -0.650903  0.757834        0.541449  1.288855   \n",
       "2            1  0.997527 -0.650903  0.757834        0.541449  1.415320   \n",
       "3            1  0.997527 -0.650903  0.757834        0.541449  1.541785   \n",
       "4            0  0.997527 -0.650903  0.757834        0.541449  0.530068   \n",
       "...        ...       ...       ...       ...             ...       ...   \n",
       "169196       0 -1.002479  0.526055  1.410777        0.541449  0.024209   \n",
       "169197       0 -1.002479  0.526055  1.410777        0.541449  0.530068   \n",
       "169198       0 -1.002479  0.526055  1.410777        0.541449  0.150674   \n",
       "169199       0 -1.002479  1.291079  0.757834        0.541449  0.024209   \n",
       "169200       0  0.997527  1.408775 -0.983348        0.541449  1.035926   \n",
       "\n",
       "        sale_price  distribution_center_id  \n",
       "0         0.138492                1.038900  \n",
       "1        -0.149585                0.002403  \n",
       "2        -0.073463               -0.688594  \n",
       "3        -0.726953               -1.379592  \n",
       "4        -0.270984               -1.034093  \n",
       "...            ...                     ...  \n",
       "169196   -0.360780                1.729897  \n",
       "169197   -0.529280                1.038900  \n",
       "169198   -0.772535               -1.379592  \n",
       "169199   -0.240596               -0.688594  \n",
       "169200   -0.151256                0.347902  \n",
       "\n",
       "[169201 rows x 8 columns]"
      ]
     },
     "execution_count": 23,
     "metadata": {},
     "output_type": "execute_result"
    }
   ],
   "source": [
    "# Mengembalikan nilai label pada kolom status\n",
    "data_scaled['status']= label_encoder.fit_transform(data_scaled['status'])\n",
    "\n",
    "data_scaled"
   ]
  },
  {
   "cell_type": "code",
   "execution_count": 24,
   "id": "f398d085",
   "metadata": {},
   "outputs": [
    {
     "name": "stdout",
     "output_type": "stream",
     "text": [
      "<class 'pandas.core.frame.DataFrame'>\n",
      "RangeIndex: 169201 entries, 0 to 169200\n",
      "Data columns (total 8 columns):\n",
      " #   Column                  Non-Null Count   Dtype  \n",
      "---  ------                  --------------   -----  \n",
      " 0   status                  169201 non-null  int64  \n",
      " 1   gender                  169201 non-null  float64\n",
      " 2   age                     169201 non-null  float64\n",
      " 3   country                 169201 non-null  float64\n",
      " 4   traffic_source          169201 non-null  float64\n",
      " 5   category                169201 non-null  float64\n",
      " 6   sale_price              169201 non-null  float64\n",
      " 7   distribution_center_id  169201 non-null  float64\n",
      "dtypes: float64(7), int64(1)\n",
      "memory usage: 10.3 MB\n"
     ]
    }
   ],
   "source": [
    "# Mengecek kembali data type dan missing values\n",
    "data_scaled.info()"
   ]
  },
  {
   "cell_type": "markdown",
   "id": "0930c493",
   "metadata": {},
   "source": [
    "# Splitting data\n",
    "Modeling classification yang akan dilakukan menggunakan kolom 'status' menjadi label / target / y dan kolom 'gender', 'age', 'country', 'traffic_source', 'category', 'sale_price', 'distribution_center_id' sebagai variabel / feature / X.\n",
    "\n",
    "Data yang ada akan dibagi menjadi data training, data development, dan data test dengan komposisi :\n",
    "1. Data training = 90%\n",
    "2. Data development = 5%\n",
    "3. Data test = 5%"
   ]
  },
  {
   "cell_type": "code",
   "execution_count": 25,
   "id": "30ebf0bb",
   "metadata": {},
   "outputs": [],
   "source": [
    "# Memisahkan antara Target/Label dengan Variabel/Features\n",
    "y = data_scaled['status']\n",
    "X = data_scaled[['gender', 'age', 'country', 'traffic_source', 'category', 'sale_price', 'distribution_center_id']]"
   ]
  },
  {
   "cell_type": "code",
   "execution_count": 26,
   "id": "1bac68d4",
   "metadata": {
    "scrolled": true
   },
   "outputs": [
    {
     "name": "stdout",
     "output_type": "stream",
     "text": [
      "training size: 152280 (89.999%)\n",
      "dev size: 8460 (5.000%)\n",
      "test size: 8461 (5.001%)\n"
     ]
    }
   ],
   "source": [
    "# Data splitting\n",
    "X_train, X_rest, y_train, y_rest = train_test_split(X, y, test_size=.1, stratify=y, random_state=42)\n",
    "X_dev, X_test, y_dev, y_test = train_test_split(X_rest, y_rest, test_size=.5, stratify=y_rest, random_state=42)\n",
    "\n",
    "print(f\"training size: {X_train.shape[0]} ({100*X_train.shape[0] / X.shape[0]:.3f}%)\")\n",
    "print(f\"dev size: {X_dev.shape[0]} ({100*X_dev.shape[0] / X.shape[0]:.3f}%)\")\n",
    "print(f\"test size: {X_test.shape[0]} ({100*X_test.shape[0] / X.shape[0]:.3f}%)\")"
   ]
  },
  {
   "cell_type": "code",
   "execution_count": 27,
   "id": "235debdf",
   "metadata": {},
   "outputs": [
    {
     "data": {
      "image/png": "[encoded data removed]",
      "text/plain": [
       "<Figure size 1080x432 with 3 Axes>"
      ]
     },
     "metadata": {
      "needs_background": "light"
     },
     "output_type": "display_data"
    }
   ],
   "source": [
    "# Melihat distribusi data\n",
    "\n",
    "fig, axis = plt.subplots(1, 3, figsize=(15, 6))\n",
    "for idx, label in enumerate([\n",
    "    (y_train, \"train\"), (y_dev, \"dev\"), (y_test, \"test\")\n",
    "]):\n",
    "    sns.countplot(x=label[0], ax=axis[idx])\n",
    "    axis[idx].set_title(label[1])\n",
    "    axis[idx].grid(False)\n",
    "plt.show()"
   ]
  },
  {
   "cell_type": "markdown",
   "id": "48261b10",
   "metadata": {},
   "source": [
    "# Model Development\n",
    "Menurut Andreas C. Müller and Sarah Guido pada Introduction to Machine Learning with Python (2017) terdapat beberapa model yang dapat digunakan untuk melakukan classification. Namun model yang dapat digunakan pada kondisi data yang digunakan meliputi :\n",
    "1. LogisticRegression\n",
    "2. RandomForestClassifier\n",
    "3. DecisionTreeClassifier\n",
    "4. GradientBoostingClassifier\n",
    "\n",
    "Dari Keempat model tersebut akan dicoba masing masing pada data dan akan dievaluasi berdasarkan hasil nilai akurasi terbaik."
   ]
  },
  {
   "cell_type": "markdown",
   "id": "ca5d3ad6",
   "metadata": {},
   "source": [
    "## LogisticRegression C=1"
   ]
  },
  {
   "cell_type": "code",
   "execution_count": 28,
   "id": "996e6209",
   "metadata": {},
   "outputs": [
    {
     "data": {
      "text/html": [
       "<style>#sk-container-id-1 {color: black;background-color: white;}#sk-container-id-1 pre{padding: 0;}#sk-container-id-1 div.sk-toggleable {background-color: white;}#sk-container-id-1 label.sk-toggleable__label {cursor: pointer;display: block;width: 100%;margin-bottom: 0;padding: 0.3em;box-sizing: border-box;text-align: center;}#sk-container-id-1 label.sk-toggleable__label-arrow:before {content: \"▸\";float: left;margin-right: 0.25em;color: #696969;}#sk-container-id-1 label.sk-toggleable__label-arrow:hover:before {color: black;}#sk-container-id-1 div.sk-estimator:hover label.sk-toggleable__label-arrow:before {color: black;}#sk-container-id-1 div.sk-toggleable__content {max-height: 0;max-width: 0;overflow: hidden;text-align: left;background-color: #f0f8ff;}#sk-container-id-1 div.sk-toggleable__content pre {margin: 0.2em;color: black;border-radius: 0.25em;background-color: #f0f8ff;}#sk-container-id-1 input.sk-toggleable__control:checked~div.sk-toggleable__content {max-height: 200px;max-width: 100%;overflow: auto;}#sk-container-id-1 input.sk-toggleable__control:checked~label.sk-toggleable__label-arrow:before {content: \"▾\";}#sk-container-id-1 div.sk-estimator input.sk-toggleable__control:checked~label.sk-toggleable__label {background-color: #d4ebff;}#sk-container-id-1 div.sk-label input.sk-toggleable__control:checked~label.sk-toggleable__label {background-color: #d4ebff;}#sk-container-id-1 input.sk-hidden--visually {border: 0;clip: rect(1px 1px 1px 1px);clip: rect(1px, 1px, 1px, 1px);height: 1px;margin: -1px;overflow: hidden;padding: 0;position: absolute;width: 1px;}#sk-container-id-1 div.sk-estimator {font-family: monospace;background-color: #f0f8ff;border: 1px dotted black;border-radius: 0.25em;box-sizing: border-box;margin-bottom: 0.5em;}#sk-container-id-1 div.sk-estimator:hover {background-color: #d4ebff;}#sk-container-id-1 div.sk-parallel-item::after {content: \"\";width: 100%;border-bottom: 1px solid gray;flex-grow: 1;}#sk-container-id-1 div.sk-label:hover label.sk-toggleable__label {background-color: #d4ebff;}#sk-container-id-1 div.sk-serial::before {content: \"\";position: absolute;border-left: 1px solid gray;box-sizing: border-box;top: 0;bottom: 0;left: 50%;z-index: 0;}#sk-container-id-1 div.sk-serial {display: flex;flex-direction: column;align-items: center;background-color: white;padding-right: 0.2em;padding-left: 0.2em;position: relative;}#sk-container-id-1 div.sk-item {position: relative;z-index: 1;}#sk-container-id-1 div.sk-parallel {display: flex;align-items: stretch;justify-content: center;background-color: white;position: relative;}#sk-container-id-1 div.sk-item::before, #sk-container-id-1 div.sk-parallel-item::before {content: \"\";position: absolute;border-left: 1px solid gray;box-sizing: border-box;top: 0;bottom: 0;left: 50%;z-index: -1;}#sk-container-id-1 div.sk-parallel-item {display: flex;flex-direction: column;z-index: 1;position: relative;background-color: white;}#sk-container-id-1 div.sk-parallel-item:first-child::after {align-self: flex-end;width: 50%;}#sk-container-id-1 div.sk-parallel-item:last-child::after {align-self: flex-start;width: 50%;}#sk-container-id-1 div.sk-parallel-item:only-child::after {width: 0;}#sk-container-id-1 div.sk-dashed-wrapped {border: 1px dashed gray;margin: 0 0.4em 0.5em 0.4em;box-sizing: border-box;padding-bottom: 0.4em;background-color: white;}#sk-container-id-1 div.sk-label label {font-family: monospace;font-weight: bold;display: inline-block;line-height: 1.2em;}#sk-container-id-1 div.sk-label-container {text-align: center;}#sk-container-id-1 div.sk-container {/* jupyter's `normalize.less` sets `[hidden] { display: none; }` but bootstrap.min.css set `[hidden] { display: none !important; }` so we also need the `!important` here to be able to override the default hidden behavior on the sphinx rendered scikit-learn.org. See: https://github.com/scikit-learn/scikit-learn/issues/21755 */display: inline-block !important;position: relative;}#sk-container-id-1 div.sk-text-repr-fallback {display: none;}</style><div id=\"sk-container-id-1\" class=\"sk-top-container\"><div class=\"sk-text-repr-fallback\"><pre>LogisticRegression()</pre><b>In a Jupyter environment, please rerun this cell to show the HTML representation or trust the notebook. <br />On GitHub, the HTML representation is unable to render, please try loading this page with nbviewer.org.</b></div><div class=\"sk-container\" hidden><div class=\"sk-item\"><div class=\"sk-estimator sk-toggleable\"><input class=\"sk-toggleable__control sk-hidden--visually\" id=\"sk-estimator-id-1\" type=\"checkbox\" checked><label for=\"sk-estimator-id-1\" class=\"sk-toggleable__label sk-toggleable__label-arrow\">LogisticRegression</label><div class=\"sk-toggleable__content\"><pre>LogisticRegression()</pre></div></div></div></div></div>"
      ],
      "text/plain": [
       "LogisticRegression()"
      ]
     },
     "execution_count": 28,
     "metadata": {},
     "output_type": "execute_result"
    }
   ],
   "source": [
    "# Memanggil function Logistic Regression senagai logreg\n",
    "logreg = LogisticRegression()\n",
    "\n",
    "# Menerapkan model Logistic Regression menggunakan data training\n",
    "logreg.fit(X_train, y_train)"
   ]
  },
  {
   "cell_type": "code",
   "execution_count": 29,
   "id": "9ced5763",
   "metadata": {},
   "outputs": [],
   "source": [
    "# Melakukan prediksi dari model Logistic Regression yang sudah dibuat menggunakan data traning, development, dan test\n",
    "preds_train_logreg = logreg.predict(X_train)\n",
    "preds_dev_logreg = logreg.predict(X_dev)\n",
    "preds_test_logreg = logreg.predict(X_test)"
   ]
  },
  {
   "cell_type": "code",
   "execution_count": 30,
   "id": "c3a88ceb",
   "metadata": {},
   "outputs": [
    {
     "name": "stdout",
     "output_type": "stream",
     "text": [
      "Accuracy Training :  0.7323942737063305\n",
      "Accuracy development :  0.7323877068557919\n",
      "Accuracy test :  0.732419335775913\n"
     ]
    }
   ],
   "source": [
    "# menampilkan hasi akurasi prediksi menggunakan model Logistic Regression\n",
    "print (\"Accuracy Training : \", accuracy_score(y_train, preds_train_logreg))\n",
    "print (\"Accuracy development : \", accuracy_score(y_dev, preds_dev_logreg))\n",
    "print (\"Accuracy test : \", accuracy_score(y_test, preds_test_logreg))"
   ]
  },
  {
   "cell_type": "code",
   "execution_count": 31,
   "id": "6cfabaeb",
   "metadata": {},
   "outputs": [
    {
     "data": {
      "text/html": [
       "<div>\n",
       "<style scoped>\n",
       "    .dataframe tbody tr th:only-of-type {\n",
       "        vertical-align: middle;\n",
       "    }\n",
       "\n",
       "    .dataframe tbody tr th {\n",
       "        vertical-align: top;\n",
       "    }\n",
       "\n",
       "    .dataframe thead th {\n",
       "        text-align: right;\n",
       "    }\n",
       "</style>\n",
       "<table border=\"1\" class=\"dataframe\">\n",
       "  <thead>\n",
       "    <tr style=\"text-align: right;\">\n",
       "      <th></th>\n",
       "      <th>coef</th>\n",
       "    </tr>\n",
       "  </thead>\n",
       "  <tbody>\n",
       "    <tr>\n",
       "      <th>gender</th>\n",
       "      <td>1.014786</td>\n",
       "    </tr>\n",
       "    <tr>\n",
       "      <th>traffic_source</th>\n",
       "      <td>1.003136</td>\n",
       "    </tr>\n",
       "    <tr>\n",
       "      <th>country</th>\n",
       "      <td>1.002725</td>\n",
       "    </tr>\n",
       "    <tr>\n",
       "      <th>category</th>\n",
       "      <td>0.999233</td>\n",
       "    </tr>\n",
       "    <tr>\n",
       "      <th>sale_price</th>\n",
       "      <td>0.996843</td>\n",
       "    </tr>\n",
       "    <tr>\n",
       "      <th>age</th>\n",
       "      <td>0.989745</td>\n",
       "    </tr>\n",
       "    <tr>\n",
       "      <th>distribution_center_id</th>\n",
       "      <td>0.988238</td>\n",
       "    </tr>\n",
       "  </tbody>\n",
       "</table>\n",
       "</div>"
      ],
      "text/plain": [
       "                            coef\n",
       "gender                  1.014786\n",
       "traffic_source          1.003136\n",
       "country                 1.002725\n",
       "category                0.999233\n",
       "sale_price              0.996843\n",
       "age                     0.989745\n",
       "distribution_center_id  0.988238"
      ]
     },
     "execution_count": 31,
     "metadata": {},
     "output_type": "execute_result"
    }
   ],
   "source": [
    "# Menampilkan nilai koefisien regresi logistik\n",
    "odds = np.exp(logreg.coef_[0])\n",
    "pd.DataFrame(odds, \n",
    "             X.columns, \n",
    "             columns=['coef'])\\\n",
    "            .sort_values(by='coef', ascending=False)"
   ]
  },
  {
   "cell_type": "markdown",
   "id": "560d09b1",
   "metadata": {},
   "source": [
    "## RandomForestClassifier"
   ]
  },
  {
   "cell_type": "code",
   "execution_count": 21,
   "id": "640638e8",
   "metadata": {},
   "outputs": [
    {
     "data": {
      "text/html": [
       "<style>#sk-container-id-2 {color: black;background-color: white;}#sk-container-id-2 pre{padding: 0;}#sk-container-id-2 div.sk-toggleable {background-color: white;}#sk-container-id-2 label.sk-toggleable__label {cursor: pointer;display: block;width: 100%;margin-bottom: 0;padding: 0.3em;box-sizing: border-box;text-align: center;}#sk-container-id-2 label.sk-toggleable__label-arrow:before {content: \"▸\";float: left;margin-right: 0.25em;color: #696969;}#sk-container-id-2 label.sk-toggleable__label-arrow:hover:before {color: black;}#sk-container-id-2 div.sk-estimator:hover label.sk-toggleable__label-arrow:before {color: black;}#sk-container-id-2 div.sk-toggleable__content {max-height: 0;max-width: 0;overflow: hidden;text-align: left;background-color: #f0f8ff;}#sk-container-id-2 div.sk-toggleable__content pre {margin: 0.2em;color: black;border-radius: 0.25em;background-color: #f0f8ff;}#sk-container-id-2 input.sk-toggleable__control:checked~div.sk-toggleable__content {max-height: 200px;max-width: 100%;overflow: auto;}#sk-container-id-2 input.sk-toggleable__control:checked~label.sk-toggleable__label-arrow:before {content: \"▾\";}#sk-container-id-2 div.sk-estimator input.sk-toggleable__control:checked~label.sk-toggleable__label {background-color: #d4ebff;}#sk-container-id-2 div.sk-label input.sk-toggleable__control:checked~label.sk-toggleable__label {background-color: #d4ebff;}#sk-container-id-2 input.sk-hidden--visually {border: 0;clip: rect(1px 1px 1px 1px);clip: rect(1px, 1px, 1px, 1px);height: 1px;margin: -1px;overflow: hidden;padding: 0;position: absolute;width: 1px;}#sk-container-id-2 div.sk-estimator {font-family: monospace;background-color: #f0f8ff;border: 1px dotted black;border-radius: 0.25em;box-sizing: border-box;margin-bottom: 0.5em;}#sk-container-id-2 div.sk-estimator:hover {background-color: #d4ebff;}#sk-container-id-2 div.sk-parallel-item::after {content: \"\";width: 100%;border-bottom: 1px solid gray;flex-grow: 1;}#sk-container-id-2 div.sk-label:hover label.sk-toggleable__label {background-color: #d4ebff;}#sk-container-id-2 div.sk-serial::before {content: \"\";position: absolute;border-left: 1px solid gray;box-sizing: border-box;top: 0;bottom: 0;left: 50%;z-index: 0;}#sk-container-id-2 div.sk-serial {display: flex;flex-direction: column;align-items: center;background-color: white;padding-right: 0.2em;padding-left: 0.2em;position: relative;}#sk-container-id-2 div.sk-item {position: relative;z-index: 1;}#sk-container-id-2 div.sk-parallel {display: flex;align-items: stretch;justify-content: center;background-color: white;position: relative;}#sk-container-id-2 div.sk-item::before, #sk-container-id-2 div.sk-parallel-item::before {content: \"\";position: absolute;border-left: 1px solid gray;box-sizing: border-box;top: 0;bottom: 0;left: 50%;z-index: -1;}#sk-container-id-2 div.sk-parallel-item {display: flex;flex-direction: column;z-index: 1;position: relative;background-color: white;}#sk-container-id-2 div.sk-parallel-item:first-child::after {align-self: flex-end;width: 50%;}#sk-container-id-2 div.sk-parallel-item:last-child::after {align-self: flex-start;width: 50%;}#sk-container-id-2 div.sk-parallel-item:only-child::after {width: 0;}#sk-container-id-2 div.sk-dashed-wrapped {border: 1px dashed gray;margin: 0 0.4em 0.5em 0.4em;box-sizing: border-box;padding-bottom: 0.4em;background-color: white;}#sk-container-id-2 div.sk-label label {font-family: monospace;font-weight: bold;display: inline-block;line-height: 1.2em;}#sk-container-id-2 div.sk-label-container {text-align: center;}#sk-container-id-2 div.sk-container {/* jupyter's `normalize.less` sets `[hidden] { display: none; }` but bootstrap.min.css set `[hidden] { display: none !important; }` so we also need the `!important` here to be able to override the default hidden behavior on the sphinx rendered scikit-learn.org. See: https://github.com/scikit-learn/scikit-learn/issues/21755 */display: inline-block !important;position: relative;}#sk-container-id-2 div.sk-text-repr-fallback {display: none;}</style><div id=\"sk-container-id-2\" class=\"sk-top-container\"><div class=\"sk-text-repr-fallback\"><pre>RandomForestClassifier(random_state=5)</pre><b>In a Jupyter environment, please rerun this cell to show the HTML representation or trust the notebook. <br />On GitHub, the HTML representation is unable to render, please try loading this page with nbviewer.org.</b></div><div class=\"sk-container\" hidden><div class=\"sk-item\"><div class=\"sk-estimator sk-toggleable\"><input class=\"sk-toggleable__control sk-hidden--visually\" id=\"sk-estimator-id-2\" type=\"checkbox\" checked><label for=\"sk-estimator-id-2\" class=\"sk-toggleable__label sk-toggleable__label-arrow\">RandomForestClassifier</label><div class=\"sk-toggleable__content\"><pre>RandomForestClassifier(random_state=5)</pre></div></div></div></div></div>"
      ],
      "text/plain": [
       "RandomForestClassifier(random_state=5)"
      ]
     },
     "execution_count": 21,
     "metadata": {},
     "output_type": "execute_result"
    }
   ],
   "source": [
    "forest = RandomForestClassifier(n_estimators=100, random_state=5)\n",
    "forest.fit(X_train, y_train)"
   ]
  },
  {
   "cell_type": "code",
   "execution_count": 22,
   "id": "1d254b6f",
   "metadata": {},
   "outputs": [],
   "source": [
    "preds_train_forest = forest.predict(X_train)\n",
    "preds_dev_forest = forest.predict(X_dev)\n",
    "preds_test_forest = forest.predict(X_test)"
   ]
  },
  {
   "cell_type": "code",
   "execution_count": 23,
   "id": "c60bbd11",
   "metadata": {},
   "outputs": [
    {
     "name": "stdout",
     "output_type": "stream",
     "text": [
      "Accuracy Training :  0.9942802731809824\n",
      "Accuracy development :  0.7017730496453901\n",
      "Accuracy test :  0.7035811369814443\n"
     ]
    }
   ],
   "source": [
    "print (\"Accuracy Training : \", accuracy_score(y_train, preds_train_forest))\n",
    "print (\"Accuracy development : \", accuracy_score(y_dev, preds_dev_forest))\n",
    "print (\"Accuracy test : \", accuracy_score(y_test, preds_test_forest))"
   ]
  },
  {
   "cell_type": "markdown",
   "id": "0be921e9",
   "metadata": {},
   "source": [
    "## DecisionTreeClassifier"
   ]
  },
  {
   "cell_type": "code",
   "execution_count": 24,
   "id": "743a6741",
   "metadata": {},
   "outputs": [
    {
     "data": {
      "text/html": [
       "<style>#sk-container-id-3 {color: black;background-color: white;}#sk-container-id-3 pre{padding: 0;}#sk-container-id-3 div.sk-toggleable {background-color: white;}#sk-container-id-3 label.sk-toggleable__label {cursor: pointer;display: block;width: 100%;margin-bottom: 0;padding: 0.3em;box-sizing: border-box;text-align: center;}#sk-container-id-3 label.sk-toggleable__label-arrow:before {content: \"▸\";float: left;margin-right: 0.25em;color: #696969;}#sk-container-id-3 label.sk-toggleable__label-arrow:hover:before {color: black;}#sk-container-id-3 div.sk-estimator:hover label.sk-toggleable__label-arrow:before {color: black;}#sk-container-id-3 div.sk-toggleable__content {max-height: 0;max-width: 0;overflow: hidden;text-align: left;background-color: #f0f8ff;}#sk-container-id-3 div.sk-toggleable__content pre {margin: 0.2em;color: black;border-radius: 0.25em;background-color: #f0f8ff;}#sk-container-id-3 input.sk-toggleable__control:checked~div.sk-toggleable__content {max-height: 200px;max-width: 100%;overflow: auto;}#sk-container-id-3 input.sk-toggleable__control:checked~label.sk-toggleable__label-arrow:before {content: \"▾\";}#sk-container-id-3 div.sk-estimator input.sk-toggleable__control:checked~label.sk-toggleable__label {background-color: #d4ebff;}#sk-container-id-3 div.sk-label input.sk-toggleable__control:checked~label.sk-toggleable__label {background-color: #d4ebff;}#sk-container-id-3 input.sk-hidden--visually {border: 0;clip: rect(1px 1px 1px 1px);clip: rect(1px, 1px, 1px, 1px);height: 1px;margin: -1px;overflow: hidden;padding: 0;position: absolute;width: 1px;}#sk-container-id-3 div.sk-estimator {font-family: monospace;background-color: #f0f8ff;border: 1px dotted black;border-radius: 0.25em;box-sizing: border-box;margin-bottom: 0.5em;}#sk-container-id-3 div.sk-estimator:hover {background-color: #d4ebff;}#sk-container-id-3 div.sk-parallel-item::after {content: \"\";width: 100%;border-bottom: 1px solid gray;flex-grow: 1;}#sk-container-id-3 div.sk-label:hover label.sk-toggleable__label {background-color: #d4ebff;}#sk-container-id-3 div.sk-serial::before {content: \"\";position: absolute;border-left: 1px solid gray;box-sizing: border-box;top: 0;bottom: 0;left: 50%;z-index: 0;}#sk-container-id-3 div.sk-serial {display: flex;flex-direction: column;align-items: center;background-color: white;padding-right: 0.2em;padding-left: 0.2em;position: relative;}#sk-container-id-3 div.sk-item {position: relative;z-index: 1;}#sk-container-id-3 div.sk-parallel {display: flex;align-items: stretch;justify-content: center;background-color: white;position: relative;}#sk-container-id-3 div.sk-item::before, #sk-container-id-3 div.sk-parallel-item::before {content: \"\";position: absolute;border-left: 1px solid gray;box-sizing: border-box;top: 0;bottom: 0;left: 50%;z-index: -1;}#sk-container-id-3 div.sk-parallel-item {display: flex;flex-direction: column;z-index: 1;position: relative;background-color: white;}#sk-container-id-3 div.sk-parallel-item:first-child::after {align-self: flex-end;width: 50%;}#sk-container-id-3 div.sk-parallel-item:last-child::after {align-self: flex-start;width: 50%;}#sk-container-id-3 div.sk-parallel-item:only-child::after {width: 0;}#sk-container-id-3 div.sk-dashed-wrapped {border: 1px dashed gray;margin: 0 0.4em 0.5em 0.4em;box-sizing: border-box;padding-bottom: 0.4em;background-color: white;}#sk-container-id-3 div.sk-label label {font-family: monospace;font-weight: bold;display: inline-block;line-height: 1.2em;}#sk-container-id-3 div.sk-label-container {text-align: center;}#sk-container-id-3 div.sk-container {/* jupyter's `normalize.less` sets `[hidden] { display: none; }` but bootstrap.min.css set `[hidden] { display: none !important; }` so we also need the `!important` here to be able to override the default hidden behavior on the sphinx rendered scikit-learn.org. See: https://github.com/scikit-learn/scikit-learn/issues/21755 */display: inline-block !important;position: relative;}#sk-container-id-3 div.sk-text-repr-fallback {display: none;}</style><div id=\"sk-container-id-3\" class=\"sk-top-container\"><div class=\"sk-text-repr-fallback\"><pre>DecisionTreeClassifier(random_state=0)</pre><b>In a Jupyter environment, please rerun this cell to show the HTML representation or trust the notebook. <br />On GitHub, the HTML representation is unable to render, please try loading this page with nbviewer.org.</b></div><div class=\"sk-container\" hidden><div class=\"sk-item\"><div class=\"sk-estimator sk-toggleable\"><input class=\"sk-toggleable__control sk-hidden--visually\" id=\"sk-estimator-id-3\" type=\"checkbox\" checked><label for=\"sk-estimator-id-3\" class=\"sk-toggleable__label sk-toggleable__label-arrow\">DecisionTreeClassifier</label><div class=\"sk-toggleable__content\"><pre>DecisionTreeClassifier(random_state=0)</pre></div></div></div></div></div>"
      ],
      "text/plain": [
       "DecisionTreeClassifier(random_state=0)"
      ]
     },
     "execution_count": 24,
     "metadata": {},
     "output_type": "execute_result"
    }
   ],
   "source": [
    "tree = DecisionTreeClassifier(random_state=0)\n",
    "tree.fit(X_train, y_train)"
   ]
  },
  {
   "cell_type": "code",
   "execution_count": 25,
   "id": "7cab2ded",
   "metadata": {},
   "outputs": [],
   "source": [
    "preds_train_tree = tree.predict(X_train)\n",
    "preds_dev_tree = tree.predict(X_dev)\n",
    "preds_test_tree = tree.predict(X_test)"
   ]
  },
  {
   "cell_type": "code",
   "execution_count": 26,
   "id": "907a3552",
   "metadata": {},
   "outputs": [
    {
     "name": "stdout",
     "output_type": "stream",
     "text": [
      "Accuracy Training :  0.9943131074336748\n",
      "Accuracy development :  0.6080378250591016\n",
      "Accuracy test :  0.5946105661269353\n"
     ]
    }
   ],
   "source": [
    "print (\"Accuracy Training : \", accuracy_score(y_train, preds_train_tree))\n",
    "print (\"Accuracy development : \", accuracy_score(y_dev, preds_dev_tree))\n",
    "print (\"Accuracy test : \", accuracy_score(y_test, preds_test_tree))"
   ]
  },
  {
   "cell_type": "markdown",
   "id": "3da963b4",
   "metadata": {},
   "source": [
    "## DecisionTreeClassifier 2"
   ]
  },
  {
   "cell_type": "code",
   "execution_count": 27,
   "id": "a511282b",
   "metadata": {},
   "outputs": [
    {
     "data": {
      "text/html": [
       "<style>#sk-container-id-4 {color: black;background-color: white;}#sk-container-id-4 pre{padding: 0;}#sk-container-id-4 div.sk-toggleable {background-color: white;}#sk-container-id-4 label.sk-toggleable__label {cursor: pointer;display: block;width: 100%;margin-bottom: 0;padding: 0.3em;box-sizing: border-box;text-align: center;}#sk-container-id-4 label.sk-toggleable__label-arrow:before {content: \"▸\";float: left;margin-right: 0.25em;color: #696969;}#sk-container-id-4 label.sk-toggleable__label-arrow:hover:before {color: black;}#sk-container-id-4 div.sk-estimator:hover label.sk-toggleable__label-arrow:before {color: black;}#sk-container-id-4 div.sk-toggleable__content {max-height: 0;max-width: 0;overflow: hidden;text-align: left;background-color: #f0f8ff;}#sk-container-id-4 div.sk-toggleable__content pre {margin: 0.2em;color: black;border-radius: 0.25em;background-color: #f0f8ff;}#sk-container-id-4 input.sk-toggleable__control:checked~div.sk-toggleable__content {max-height: 200px;max-width: 100%;overflow: auto;}#sk-container-id-4 input.sk-toggleable__control:checked~label.sk-toggleable__label-arrow:before {content: \"▾\";}#sk-container-id-4 div.sk-estimator input.sk-toggleable__control:checked~label.sk-toggleable__label {background-color: #d4ebff;}#sk-container-id-4 div.sk-label input.sk-toggleable__control:checked~label.sk-toggleable__label {background-color: #d4ebff;}#sk-container-id-4 input.sk-hidden--visually {border: 0;clip: rect(1px 1px 1px 1px);clip: rect(1px, 1px, 1px, 1px);height: 1px;margin: -1px;overflow: hidden;padding: 0;position: absolute;width: 1px;}#sk-container-id-4 div.sk-estimator {font-family: monospace;background-color: #f0f8ff;border: 1px dotted black;border-radius: 0.25em;box-sizing: border-box;margin-bottom: 0.5em;}#sk-container-id-4 div.sk-estimator:hover {background-color: #d4ebff;}#sk-container-id-4 div.sk-parallel-item::after {content: \"\";width: 100%;border-bottom: 1px solid gray;flex-grow: 1;}#sk-container-id-4 div.sk-label:hover label.sk-toggleable__label {background-color: #d4ebff;}#sk-container-id-4 div.sk-serial::before {content: \"\";position: absolute;border-left: 1px solid gray;box-sizing: border-box;top: 0;bottom: 0;left: 50%;z-index: 0;}#sk-container-id-4 div.sk-serial {display: flex;flex-direction: column;align-items: center;background-color: white;padding-right: 0.2em;padding-left: 0.2em;position: relative;}#sk-container-id-4 div.sk-item {position: relative;z-index: 1;}#sk-container-id-4 div.sk-parallel {display: flex;align-items: stretch;justify-content: center;background-color: white;position: relative;}#sk-container-id-4 div.sk-item::before, #sk-container-id-4 div.sk-parallel-item::before {content: \"\";position: absolute;border-left: 1px solid gray;box-sizing: border-box;top: 0;bottom: 0;left: 50%;z-index: -1;}#sk-container-id-4 div.sk-parallel-item {display: flex;flex-direction: column;z-index: 1;position: relative;background-color: white;}#sk-container-id-4 div.sk-parallel-item:first-child::after {align-self: flex-end;width: 50%;}#sk-container-id-4 div.sk-parallel-item:last-child::after {align-self: flex-start;width: 50%;}#sk-container-id-4 div.sk-parallel-item:only-child::after {width: 0;}#sk-container-id-4 div.sk-dashed-wrapped {border: 1px dashed gray;margin: 0 0.4em 0.5em 0.4em;box-sizing: border-box;padding-bottom: 0.4em;background-color: white;}#sk-container-id-4 div.sk-label label {font-family: monospace;font-weight: bold;display: inline-block;line-height: 1.2em;}#sk-container-id-4 div.sk-label-container {text-align: center;}#sk-container-id-4 div.sk-container {/* jupyter's `normalize.less` sets `[hidden] { display: none; }` but bootstrap.min.css set `[hidden] { display: none !important; }` so we also need the `!important` here to be able to override the default hidden behavior on the sphinx rendered scikit-learn.org. See: https://github.com/scikit-learn/scikit-learn/issues/21755 */display: inline-block !important;position: relative;}#sk-container-id-4 div.sk-text-repr-fallback {display: none;}</style><div id=\"sk-container-id-4\" class=\"sk-top-container\"><div class=\"sk-text-repr-fallback\"><pre>DecisionTreeClassifier(max_depth=6, random_state=0)</pre><b>In a Jupyter environment, please rerun this cell to show the HTML representation or trust the notebook. <br />On GitHub, the HTML representation is unable to render, please try loading this page with nbviewer.org.</b></div><div class=\"sk-container\" hidden><div class=\"sk-item\"><div class=\"sk-estimator sk-toggleable\"><input class=\"sk-toggleable__control sk-hidden--visually\" id=\"sk-estimator-id-4\" type=\"checkbox\" checked><label for=\"sk-estimator-id-4\" class=\"sk-toggleable__label sk-toggleable__label-arrow\">DecisionTreeClassifier</label><div class=\"sk-toggleable__content\"><pre>DecisionTreeClassifier(max_depth=6, random_state=0)</pre></div></div></div></div></div>"
      ],
      "text/plain": [
       "DecisionTreeClassifier(max_depth=6, random_state=0)"
      ]
     },
     "execution_count": 27,
     "metadata": {},
     "output_type": "execute_result"
    }
   ],
   "source": [
    "tree2 = DecisionTreeClassifier(max_depth=6, random_state=0)\n",
    "tree2.fit(X_train, y_train)"
   ]
  },
  {
   "cell_type": "code",
   "execution_count": 28,
   "id": "88811f18",
   "metadata": {},
   "outputs": [],
   "source": [
    "preds_train_tree2 = tree2.predict(X_train)\n",
    "preds_dev_tree2 = tree2.predict(X_dev)\n",
    "preds_test_tree2 = tree2.predict(X_test)"
   ]
  },
  {
   "cell_type": "code",
   "execution_count": 29,
   "id": "11f802b6",
   "metadata": {},
   "outputs": [
    {
     "name": "stdout",
     "output_type": "stream",
     "text": [
      "Accuracy Training :  0.7324402416600998\n",
      "Accuracy development :  0.7323877068557919\n",
      "Accuracy test :  0.732419335775913\n"
     ]
    }
   ],
   "source": [
    "print (\"Accuracy Training : \", accuracy_score(y_train, preds_train_tree2))\n",
    "print (\"Accuracy development : \", accuracy_score(y_dev, preds_dev_tree2))\n",
    "print (\"Accuracy test : \", accuracy_score(y_test, preds_test_tree2))"
   ]
  },
  {
   "cell_type": "markdown",
   "id": "4cee3599",
   "metadata": {},
   "source": [
    "## GradientBoostingClassifier"
   ]
  },
  {
   "cell_type": "code",
   "execution_count": 30,
   "id": "e60ca380",
   "metadata": {},
   "outputs": [
    {
     "data": {
      "text/html": [
       "<style>#sk-container-id-5 {color: black;background-color: white;}#sk-container-id-5 pre{padding: 0;}#sk-container-id-5 div.sk-toggleable {background-color: white;}#sk-container-id-5 label.sk-toggleable__label {cursor: pointer;display: block;width: 100%;margin-bottom: 0;padding: 0.3em;box-sizing: border-box;text-align: center;}#sk-container-id-5 label.sk-toggleable__label-arrow:before {content: \"▸\";float: left;margin-right: 0.25em;color: #696969;}#sk-container-id-5 label.sk-toggleable__label-arrow:hover:before {color: black;}#sk-container-id-5 div.sk-estimator:hover label.sk-toggleable__label-arrow:before {color: black;}#sk-container-id-5 div.sk-toggleable__content {max-height: 0;max-width: 0;overflow: hidden;text-align: left;background-color: #f0f8ff;}#sk-container-id-5 div.sk-toggleable__content pre {margin: 0.2em;color: black;border-radius: 0.25em;background-color: #f0f8ff;}#sk-container-id-5 input.sk-toggleable__control:checked~div.sk-toggleable__content {max-height: 200px;max-width: 100%;overflow: auto;}#sk-container-id-5 input.sk-toggleable__control:checked~label.sk-toggleable__label-arrow:before {content: \"▾\";}#sk-container-id-5 div.sk-estimator input.sk-toggleable__control:checked~label.sk-toggleable__label {background-color: #d4ebff;}#sk-container-id-5 div.sk-label input.sk-toggleable__control:checked~label.sk-toggleable__label {background-color: #d4ebff;}#sk-container-id-5 input.sk-hidden--visually {border: 0;clip: rect(1px 1px 1px 1px);clip: rect(1px, 1px, 1px, 1px);height: 1px;margin: -1px;overflow: hidden;padding: 0;position: absolute;width: 1px;}#sk-container-id-5 div.sk-estimator {font-family: monospace;background-color: #f0f8ff;border: 1px dotted black;border-radius: 0.25em;box-sizing: border-box;margin-bottom: 0.5em;}#sk-container-id-5 div.sk-estimator:hover {background-color: #d4ebff;}#sk-container-id-5 div.sk-parallel-item::after {content: \"\";width: 100%;border-bottom: 1px solid gray;flex-grow: 1;}#sk-container-id-5 div.sk-label:hover label.sk-toggleable__label {background-color: #d4ebff;}#sk-container-id-5 div.sk-serial::before {content: \"\";position: absolute;border-left: 1px solid gray;box-sizing: border-box;top: 0;bottom: 0;left: 50%;z-index: 0;}#sk-container-id-5 div.sk-serial {display: flex;flex-direction: column;align-items: center;background-color: white;padding-right: 0.2em;padding-left: 0.2em;position: relative;}#sk-container-id-5 div.sk-item {position: relative;z-index: 1;}#sk-container-id-5 div.sk-parallel {display: flex;align-items: stretch;justify-content: center;background-color: white;position: relative;}#sk-container-id-5 div.sk-item::before, #sk-container-id-5 div.sk-parallel-item::before {content: \"\";position: absolute;border-left: 1px solid gray;box-sizing: border-box;top: 0;bottom: 0;left: 50%;z-index: -1;}#sk-container-id-5 div.sk-parallel-item {display: flex;flex-direction: column;z-index: 1;position: relative;background-color: white;}#sk-container-id-5 div.sk-parallel-item:first-child::after {align-self: flex-end;width: 50%;}#sk-container-id-5 div.sk-parallel-item:last-child::after {align-self: flex-start;width: 50%;}#sk-container-id-5 div.sk-parallel-item:only-child::after {width: 0;}#sk-container-id-5 div.sk-dashed-wrapped {border: 1px dashed gray;margin: 0 0.4em 0.5em 0.4em;box-sizing: border-box;padding-bottom: 0.4em;background-color: white;}#sk-container-id-5 div.sk-label label {font-family: monospace;font-weight: bold;display: inline-block;line-height: 1.2em;}#sk-container-id-5 div.sk-label-container {text-align: center;}#sk-container-id-5 div.sk-container {/* jupyter's `normalize.less` sets `[hidden] { display: none; }` but bootstrap.min.css set `[hidden] { display: none !important; }` so we also need the `!important` here to be able to override the default hidden behavior on the sphinx rendered scikit-learn.org. See: https://github.com/scikit-learn/scikit-learn/issues/21755 */display: inline-block !important;position: relative;}#sk-container-id-5 div.sk-text-repr-fallback {display: none;}</style><div id=\"sk-container-id-5\" class=\"sk-top-container\"><div class=\"sk-text-repr-fallback\"><pre>GradientBoostingClassifier(random_state=0)</pre><b>In a Jupyter environment, please rerun this cell to show the HTML representation or trust the notebook. <br />On GitHub, the HTML representation is unable to render, please try loading this page with nbviewer.org.</b></div><div class=\"sk-container\" hidden><div class=\"sk-item\"><div class=\"sk-estimator sk-toggleable\"><input class=\"sk-toggleable__control sk-hidden--visually\" id=\"sk-estimator-id-5\" type=\"checkbox\" checked><label for=\"sk-estimator-id-5\" class=\"sk-toggleable__label sk-toggleable__label-arrow\">GradientBoostingClassifier</label><div class=\"sk-toggleable__content\"><pre>GradientBoostingClassifier(random_state=0)</pre></div></div></div></div></div>"
      ],
      "text/plain": [
       "GradientBoostingClassifier(random_state=0)"
      ]
     },
     "execution_count": 30,
     "metadata": {},
     "output_type": "execute_result"
    }
   ],
   "source": [
    "gbrt = GradientBoostingClassifier(random_state=0)\n",
    "gbrt.fit(X_train, y_train)"
   ]
  },
  {
   "cell_type": "code",
   "execution_count": 31,
   "id": "b1247426",
   "metadata": {},
   "outputs": [],
   "source": [
    "preds_train_gbrt = gbrt.predict(X_train)\n",
    "preds_dev_gbrt = gbrt.predict(X_dev)\n",
    "preds_test_gbrt = gbrt.predict(X_test)"
   ]
  },
  {
   "cell_type": "code",
   "execution_count": 32,
   "id": "a775a356",
   "metadata": {},
   "outputs": [
    {
     "name": "stdout",
     "output_type": "stream",
     "text": [
      "Accuracy Training :  0.7324468085106383\n",
      "Accuracy development :  0.7322695035460993\n",
      "Accuracy test :  0.7323011464365914\n"
     ]
    }
   ],
   "source": [
    "print (\"Accuracy Training : \", accuracy_score(y_train, preds_train_gbrt))\n",
    "print (\"Accuracy development : \", accuracy_score(y_dev, preds_dev_gbrt))\n",
    "print (\"Accuracy test : \", accuracy_score(y_test, preds_test_gbrt))"
   ]
  },
  {
   "cell_type": "markdown",
   "id": "50121dd4",
   "metadata": {},
   "source": [
    "Hasil diatas menunjukkan bahwa hasil akurasi test terbaik diberikan pada hasil modeling :\n",
    "1. LogisticRegression\n",
    "2. DecisionTreeClassifier\n",
    "3. GradientBoostingClassifier\n",
    "\n",
    "Hasil akurasidari ketiganya sama yaitu \n",
    "1. Accuracy Training :  0.7324730759127922\n",
    "2. Accuracy development :  0.7323877068557919\n",
    "3. Accuracy test :  0.732419335775913\n",
    "\n",
    "\n",
    "Karena ketiga model tersebut memberikan hasil akurasi yang sama maka akan model DecisionTreeClassifier akan digunakan untuk dievaluasi dan meninjau  komponen yang mempengaruhi transaction status customer."
   ]
  },
  {
   "cell_type": "markdown",
   "id": "e76251db",
   "metadata": {},
   "source": [
    "## Model Evaluation"
   ]
  },
  {
   "cell_type": "code",
   "execution_count": 33,
   "id": "66997635",
   "metadata": {},
   "outputs": [
    {
     "name": "stdout",
     "output_type": "stream",
     "text": [
      "Default model performance on training set..\n",
      "              precision    recall  f1-score   support\n",
      "\n",
      "           0       0.73      1.00      0.85    111529\n",
      "           1       0.82      0.00      0.00     40751\n",
      "\n",
      "    accuracy                           0.73    152280\n",
      "   macro avg       0.78      0.50      0.42    152280\n",
      "weighted avg       0.76      0.73      0.62    152280\n",
      "\n"
     ]
    },
    {
     "data": {
      "image/png": "[encoded data removed]",
      "text/plain": [
       "<Figure size 432x288 with 2 Axes>"
      ]
     },
     "metadata": {
      "needs_background": "light"
     },
     "output_type": "display_data"
    }
   ],
   "source": [
    "print(\"Default model performance on training set..\")\n",
    "print(classification_report(y_train, preds_train_tree2))\n",
    "\n",
    "# Visualisasikan Confusion Matrix\n",
    "ConfusionMatrixDisplay.from_predictions(y_train, preds_train_tree2)\n",
    "plt.title(\"Confusion Matrix Training\")\n",
    "plt.grid(False)\n",
    "plt.show()"
   ]
  },
  {
   "cell_type": "code",
   "execution_count": 34,
   "id": "5835d47e",
   "metadata": {},
   "outputs": [
    {
     "name": "stdout",
     "output_type": "stream",
     "text": [
      "Default model performance on dev set...\n",
      "              precision    recall  f1-score   support\n",
      "\n",
      "           0       0.73      1.00      0.85      6196\n",
      "           1       0.00      0.00      0.00      2264\n",
      "\n",
      "    accuracy                           0.73      8460\n",
      "   macro avg       0.37      0.50      0.42      8460\n",
      "weighted avg       0.54      0.73      0.62      8460\n",
      "\n"
     ]
    },
    {
     "data": {
      "image/png": "[encoded data removed]",
      "text/plain": [
       "<Figure size 432x288 with 2 Axes>"
      ]
     },
     "metadata": {
      "needs_background": "light"
     },
     "output_type": "display_data"
    }
   ],
   "source": [
    "print(\"Default model performance on dev set...\")\n",
    "print(classification_report(y_dev, preds_dev_tree2))\n",
    "\n",
    "# Visualisasikan Confusion Matrix\n",
    "ConfusionMatrixDisplay.from_predictions(y_dev, preds_dev_tree2)\n",
    "plt.title(\"Confusion Matrix Development\")\n",
    "plt.grid(False)\n",
    "plt.show()"
   ]
  },
  {
   "cell_type": "code",
   "execution_count": 35,
   "id": "339ba768",
   "metadata": {
    "scrolled": false
   },
   "outputs": [
    {
     "name": "stdout",
     "output_type": "stream",
     "text": [
      "Default model performance on test set...\n",
      "              precision    recall  f1-score   support\n",
      "\n",
      "           0       0.73      1.00      0.85      6197\n",
      "           1       0.00      0.00      0.00      2264\n",
      "\n",
      "    accuracy                           0.73      8461\n",
      "   macro avg       0.37      0.50      0.42      8461\n",
      "weighted avg       0.54      0.73      0.62      8461\n",
      "\n"
     ]
    },
    {
     "data": {
      "image/png": "[encoded data removed]",
      "text/plain": [
       "<Figure size 432x288 with 2 Axes>"
      ]
     },
     "metadata": {
      "needs_background": "light"
     },
     "output_type": "display_data"
    }
   ],
   "source": [
    "print(\"Default model performance on test set...\")\n",
    "print(classification_report(y_test, preds_test_tree2))\n",
    "\n",
    "# Visualisasikan Confusion Matrix\n",
    "ConfusionMatrixDisplay.from_predictions(y_test, preds_test_tree2)\n",
    "plt.title(\"Confusion Matrix Test\")\n",
    "plt.grid(False)\n",
    "plt.show()"
   ]
  },
  {
   "cell_type": "markdown",
   "id": "979598e8",
   "metadata": {},
   "source": [
    "## Rendahnya Accuracy pada Model\n",
    "Hasil dari confussion Matrix Test dan accuracy test model menunjukkan hasil yang kurang optimal. untuk meningkatkan performa model perlu dilakukan evaluasi penyebab rendahnya akurasi model yang dibuat. Evaluasi tersebut menggunakan learning curve dari sklearn untuk mengetahui performa model yang dibuat."
   ]
  },
  {
   "cell_type": "code",
   "execution_count": 84,
   "id": "5e2d356d",
   "metadata": {},
   "outputs": [],
   "source": [
    " train_sizes_tree2, train_scores_tree2, test_scores_tree2 = learning_curve(DecisionTreeClassifier(max_depth=6, random_state=0)\n",
    "                                                                           , X\n",
    "                                                                           , y\n",
    "                                                                           , cv=10\n",
    "                                                                           , scoring='accuracy'\n",
    "                                                                           , n_jobs=-1\n",
    "                                                                           , train_sizes=np.linspace(0.01, 1.0, 50))"
   ]
  },
  {
   "cell_type": "code",
   "execution_count": 85,
   "id": "a52ef792",
   "metadata": {},
   "outputs": [],
   "source": [
    "train_mean_tree2 = np.mean(train_scores_tree2, axis=1)\n",
    "train_std_tree2 = np.std(train_scores_tree2, axis=1)\n",
    "\n",
    "test_mean_tree2 = np.mean(test_scores_tree2, axis=1)\n",
    "test_std_tree2 = np.std(test_scores_tree2, axis=1)"
   ]
  },
  {
   "cell_type": "code",
   "execution_count": 86,
   "id": "4f8d3a82",
   "metadata": {},
   "outputs": [
    {
     "data": {
      "image/png": "[encoded data removed]",
      "text/plain": [
       "<Figure size 720x432 with 1 Axes>"
      ]
     },
     "metadata": {
      "needs_background": "light"
     },
     "output_type": "display_data"
    }
   ],
   "source": [
    "plt.subplots(1, figsize=(10,6))\n",
    "plt.plot(train_sizes_tree2, train_mean_tree2, '--', color=\"#111111\",  label=\"Training score\")\n",
    "plt.plot(train_sizes_tree2, test_mean_tree2, color=\"#111111\", label=\"Cross-validation score\")\n",
    "\n",
    "plt.fill_between(train_sizes_tree2, train_mean_tree2 - train_std_tree2, train_mean_tree2 + train_std_tree2, color=\"#DDDDDD\")\n",
    "plt.fill_between(train_sizes_tree2, test_mean_tree2 - test_std_tree2, test_mean_tree2 + test_std_tree2, color=\"#DDDDDD\")\n",
    "\n",
    "plt.title(\"Learning Curve\")\n",
    "plt.xlabel(\"Training Set Size\"), plt.ylabel(\"Accuracy Score\"), plt.legend(loc=\"best\")\n",
    "plt.tight_layout()\n",
    "plt.show()"
   ]
  },
  {
   "cell_type": "markdown",
   "id": "a64a5463",
   "metadata": {},
   "source": [
    "Penyebab rendahnya Akurasi pada model dijelaskan dari hasil plot Learning Curve. Hasil dari Learning curve menunjukkan bahwa penambahan data tidak memberikan kenaikan akurasi tetapi malah menyebabkan terjadinya high bias pada hasil modeling. Solusinya berdasarkan *Bias-Variance trade-off* mengharuskan dilakukan penambahan variabel yang relevan terhadap label agar bias pada data dapat berkurang. Akan tetapi dalam data yang tersedia sudah tidak memiliki variabel yang berkaitan dengan status transaksi customer."
   ]
  },
  {
   "cell_type": "markdown",
   "id": "313b3286",
   "metadata": {},
   "source": [
    "## Interpretasi Hasil"
   ]
  },
  {
   "cell_type": "code",
   "execution_count": 36,
   "id": "d1a5f2fd",
   "metadata": {
    "scrolled": true
   },
   "outputs": [
    {
     "data": {
      "image/png": "[encoded data removed]",
      "text/plain": [
       "<Figure size 864x432 with 1 Axes>"
      ]
     },
     "metadata": {
      "needs_background": "light"
     },
     "output_type": "display_data"
    }
   ],
   "source": [
    "plt.figure(figsize=(12, 6))\n",
    "plot_tree(tree2, max_depth=5)\n",
    "plt.show()"
   ]
  },
  {
   "cell_type": "markdown",
   "id": "c1bdb527",
   "metadata": {},
   "source": [
    "Hasil visualisasi decision tree diatas cukup sulit untuk diinterpretasikan. Maka untuk mempermudah interpretasi dapat dilakukan plotting feature importen dari model"
   ]
  },
  {
   "cell_type": "code",
   "execution_count": 16,
   "id": "1b9253f3",
   "metadata": {},
   "outputs": [
    {
     "data": {
      "text/plain": [
       "[Text(0.5, 1.0, 'Feature Importances')]"
      ]
     },
     "execution_count": 16,
     "metadata": {},
     "output_type": "execute_result"
    },
    {
     "data": {
      "image/png": "[encoded data removed]",
      "text/plain": [
       "<Figure size 432x288 with 1 Axes>"
      ]
     },
     "metadata": {
      "needs_background": "light"
     },
     "output_type": "display_data"
    }
   ],
   "source": [
    "(pd.Series(tree2.feature_importances_, index=X.columns)\n",
    "   .nlargest(8)\n",
    "   .plot(kind='barh')\n",
    "   .set(title='Feature Importances') )"
   ]
  },
  {
   "cell_type": "markdown",
   "id": "f6ed1c4d",
   "metadata": {},
   "source": [
    "Meskipun hasil akurasi model yang cukup rendah yaitu 73%, namun dari model tersebut kita dapat mengambil kesimpulan bahwa komponen variabel yang memberikan pengaruh terbesar terhadap status transaction customer adalah sale_price, age, dan country. Hal tersebut juga mampu menjawab pertanyaan bisnis bahwa feature yang memberikan pengaruh terbesar terhadap status transaksi adalah harga barang itu sendiri"
   ]
  }
 ],
 "metadata": {
  "kernelspec": {
   "display_name": "Python 3 (ipykernel)",
   "language": "python",
   "name": "python3"
  },
  "language_info": {
   "codemirror_mode": {
    "name": "ipython",
    "version": 3
   },
   "file_extension": ".py",
   "mimetype": "text/x-python",
   "name": "python",
   "nbconvert_exporter": "python",
   "pygments_lexer": "ipython3",
   "version": "3.9.7"
  }
 },
 "nbformat": 4,
 "nbformat_minor": 5
}
